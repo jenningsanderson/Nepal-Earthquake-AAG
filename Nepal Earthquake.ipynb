{
 "cells": [
  {
   "cell_type": "markdown",
   "metadata": {
    "slideshow": {
     "slide_type": "slide"
    }
   },
   "source": [
    "Nepal Earthquake OSM Data Exploration\n",
    "====================================="
   ]
  },
  {
   "cell_type": "code",
   "execution_count": 2,
   "metadata": {
    "collapsed": false,
    "slideshow": {
     "slide_type": "slide"
    }
   },
   "outputs": [
    {
     "name": "stdout",
     "output_type": "stream",
     "text": [
      "Successfully initialized Analysis Window: Nepal Earthquake\n",
      "\n"
     ]
    },
    {
     "data": {
      "text/plain": [
       "#<AnalysisWindow:0x007fc46197cbd8 @bounding_box=#<BoundingBox:0x007fc46197ce58 @bbox_array=[\"80.0134\", \"26.3033\", \"88.2202\", \"30.5149\"], @bottom_left=[80.0134, 26.3033], @top_right=[88.2202, 30.5149], @active=false>, @time_frame=#<TimeFrame:0x007fc46197d650 @start_date=2015-04-25 00:00:00 +0000, @end_date=2015-05-31 00:00:00 +0000, @active=true>, @max_area=1000000000000, @min_area=1, @title=\"Nepal Earthquake\", @changeset_tags=nil>"
      ]
     },
     "execution_count": 2,
     "metadata": {},
     "output_type": "execute_result"
    }
   ],
   "source": [
    "require '/opt/epic-osm/epic-osm.rb'\n",
    "analysis_window = './nepal-earthquake.yml'\n",
    "o  = EpicOSM.new(analysis_window: analysis_window)\n",
    "aw = o.analysis_window"
   ]
  },
  {
   "cell_type": "markdown",
   "metadata": {},
   "source": [
    "## Visualize some changesets information!"
   ]
  },
  {
   "cell_type": "code",
   "execution_count": 3,
   "metadata": {
    "collapsed": false,
    "scrolled": true
   },
   "outputs": [
    {
     "name": "stdout",
     "output_type": "stream",
     "text": [
      "{:unit=>:hour, :step=>4, :constraints=>{}, :collection=>\"changesets\", :type=>DomainObject::Changeset}\n",
      "Query complete for: {:created_at=>{\"$gte\"=>2015-04-25 00:00:00 +0000, \"$lt\"=>2015-04-25 04:00:00 +0000}}\n",
      "Query complete for: {:created_at=>{\"$gte\"=>2015-04-25 04:00:00 +0000, \"$lt\"=>2015-04-25 08:00:00 +0000}}\n",
      "Query complete for: {:created_at=>{\"$gte\"=>2015-04-25 08:00:00 +0000, \"$lt\"=>2015-04-25 12:00:00 +0000}}\n",
      "Query complete for: {:created_at=>{\"$gte\"=>2015-04-25 12:00:00 +0000, \"$lt\"=>2015-04-25 16:00:00 +0000}}\n",
      "Query complete for: {:created_at=>{\"$gte\"=>2015-04-25 16:00:00 +0000, \"$lt\"=>2015-04-25 20:00:00 +0000}}\n",
      "Query complete for: {:created_at=>{\"$gte\"=>2015-04-25 20:00:00 +0000, \"$lt\"=>2015-04-26 00:00:00 +0000}}\n",
      "Query complete for: {:created_at=>{\"$gte\"=>2015-04-26 00:00:00 +0000, \"$lt\"=>2015-04-26 04:00:00 +0000}}\n",
      "Query complete for: {:created_at=>{\"$gte\"=>2015-04-26 04:00:00 +0000, \"$lt\"=>2015-04-26 08:00:00 +0000}}\n",
      "Query complete for: {:created_at=>{\"$gte\"=>2015-04-26 08:00:00 +0000, \"$lt\"=>2015-04-26 12:00:00 +0000}}\n",
      "Query complete for: {:created_at=>{\"$gte\"=>2015-04-26 12:00:00 +0000, \"$lt\"=>2015-04-26 16:00:00 +0000}}\n",
      "Query complete for: {:created_at=>{\"$gte\"=>2015-04-26 16:00:00 +0000, \"$lt\"=>2015-04-26 20:00:00 +0000}}\n",
      "Query complete for: {:created_at=>{\"$gte\"=>2015-04-26 20:00:00 +0000, \"$lt\"=>2015-04-27 00:00:00 +0000}}\n",
      "Query complete for: {:created_at=>{\"$gte\"=>2015-04-27 00:00:00 +0000, \"$lt\"=>2015-04-27 04:00:00 +0000}}\n",
      "Query complete for: {:created_at=>{\"$gte\"=>2015-04-27 04:00:00 +0000, \"$lt\"=>2015-04-27 08:00:00 +0000}}\n",
      "Query complete for: {:created_at=>{\"$gte\"=>2015-04-27 08:00:00 +0000, \"$lt\"=>2015-04-27 12:00:00 +0000}}\n",
      "Query complete for: {:created_at=>{\"$gte\"=>2015-04-27 12:00:00 +0000, \"$lt\"=>2015-04-27 16:00:00 +0000}}\n",
      "Query complete for: {:created_at=>{\"$gte\"=>2015-04-27 16:00:00 +0000, \"$lt\"=>2015-04-27 20:00:00 +0000}}\n",
      "Query complete for: {:created_at=>{\"$gte\"=>2015-04-27 20:00:00 +0000, \"$lt\"=>2015-04-28 00:00:00 +0000}}\n",
      "Query complete for: {:created_at=>{\"$gte\"=>2015-04-28 00:00:00 +0000, \"$lt\"=>2015-04-28 04:00:00 +0000}}\n",
      "Query complete for: {:created_at=>{\"$gte\"=>2015-04-28 04:00:00 +0000, \"$lt\"=>2015-04-28 08:00:00 +0000}}\n",
      "Query complete for: {:created_at=>{\"$gte\"=>2015-04-28 08:00:00 +0000, \"$lt\"=>2015-04-28 12:00:00 +0000}}\n",
      "Query complete for: {:created_at=>{\"$gte\"=>2015-04-28 12:00:00 +0000, \"$lt\"=>2015-04-28 16:00:00 +0000}}\n",
      "Query complete for: {:created_at=>{\"$gte\"=>2015-04-28 16:00:00 +0000, \"$lt\"=>2015-04-28 20:00:00 +0000}}\n",
      "Query complete for: {:created_at=>{\"$gte\"=>2015-04-28 20:00:00 +0000, \"$lt\"=>2015-04-29 00:00:00 +0000}}\n",
      "Query complete for: {:created_at=>{\"$gte\"=>2015-04-29 00:00:00 +0000, \"$lt\"=>2015-04-29 04:00:00 +0000}}\n",
      "Query complete for: {:created_at=>{\"$gte\"=>2015-04-29 04:00:00 +0000, \"$lt\"=>2015-04-29 08:00:00 +0000}}\n",
      "Query complete for: {:created_at=>{\"$gte\"=>2015-04-29 08:00:00 +0000, \"$lt\"=>2015-04-29 12:00:00 +0000}}\n",
      "Query complete for: {:created_at=>{\"$gte\"=>2015-04-29 12:00:00 +0000, \"$lt\"=>2015-04-29 16:00:00 +0000}}\n",
      "Query complete for: {:created_at=>{\"$gte\"=>2015-04-29 16:00:00 +0000, \"$lt\"=>2015-04-29 20:00:00 +0000}}\n",
      "Query complete for: {:created_at=>{\"$gte\"=>2015-04-29 20:00:00 +0000, \"$lt\"=>2015-04-30 00:00:00 +0000}}\n",
      "Query complete for: {:created_at=>{\"$gte\"=>2015-04-30 00:00:00 +0000, \"$lt\"=>2015-04-30 04:00:00 +0000}}\n",
      "Query complete for: {:created_at=>{\"$gte\"=>2015-04-30 04:00:00 +0000, \"$lt\"=>2015-04-30 08:00:00 +0000}}\n",
      "Query complete for: {:created_at=>{\"$gte\"=>2015-04-30 08:00:00 +0000, \"$lt\"=>2015-04-30 12:00:00 +0000}}\n",
      "Query complete for: {:created_at=>{\"$gte\"=>2015-04-30 12:00:00 +0000, \"$lt\"=>2015-04-30 16:00:00 +0000}}\n",
      "Query complete for: {:created_at=>{\"$gte\"=>2015-04-30 16:00:00 +0000, \"$lt\"=>2015-04-30 20:00:00 +0000}}\n",
      "Query complete for: {:created_at=>{\"$gte\"=>2015-04-30 20:00:00 +0000, \"$lt\"=>2015-05-01 00:00:00 +0000}}\n",
      "Query complete for: {:created_at=>{\"$gte\"=>2015-05-01 00:00:00 +0000, \"$lt\"=>2015-05-01 04:00:00 +0000}}\n",
      "Query complete for: {:created_at=>{\"$gte\"=>2015-05-01 04:00:00 +0000, \"$lt\"=>2015-05-01 08:00:00 +0000}}\n",
      "Query complete for: {:created_at=>{\"$gte\"=>2015-05-01 08:00:00 +0000, \"$lt\"=>2015-05-01 12:00:00 +0000}}\n",
      "Query complete for: {:created_at=>{\"$gte\"=>2015-05-01 12:00:00 +0000, \"$lt\"=>2015-05-01 16:00:00 +0000}}\n",
      "Query complete for: {:created_at=>{\"$gte\"=>2015-05-01 16:00:00 +0000, \"$lt\"=>2015-05-01 20:00:00 +0000}}\n",
      "Query complete for: {:created_at=>{\"$gte\"=>2015-05-01 20:00:00 +0000, \"$lt\"=>2015-05-02 00:00:00 +0000}}\n",
      "Query complete for: {:created_at=>{\"$gte\"=>2015-05-02 00:00:00 +0000, \"$lt\"=>2015-05-02 04:00:00 +0000}}\n",
      "Query complete for: {:created_at=>{\"$gte\"=>2015-05-02 04:00:00 +0000, \"$lt\"=>2015-05-02 08:00:00 +0000}}\n",
      "Query complete for: {:created_at=>{\"$gte\"=>2015-05-02 08:00:00 +0000, \"$lt\"=>2015-05-02 12:00:00 +0000}}\n",
      "Query complete for: {:created_at=>{\"$gte\"=>2015-05-02 12:00:00 +0000, \"$lt\"=>2015-05-02 16:00:00 +0000}}\n",
      "Query complete for: {:created_at=>{\"$gte\"=>2015-05-02 16:00:00 +0000, \"$lt\"=>2015-05-02 20:00:00 +0000}}\n",
      "Query complete for: {:created_at=>{\"$gte\"=>2015-05-02 20:00:00 +0000, \"$lt\"=>2015-05-03 00:00:00 +0000}}\n",
      "Query complete for: {:created_at=>{\"$gte\"=>2015-05-03 00:00:00 +0000, \"$lt\"=>2015-05-03 04:00:00 +0000}}\n",
      "Query complete for: {:created_at=>{\"$gte\"=>2015-05-03 04:00:00 +0000, \"$lt\"=>2015-05-03 08:00:00 +0000}}\n",
      "Query complete for: {:created_at=>{\"$gte\"=>2015-05-03 08:00:00 +0000, \"$lt\"=>2015-05-03 12:00:00 +0000}}\n",
      "Query complete for: {:created_at=>{\"$gte\"=>2015-05-03 12:00:00 +0000, \"$lt\"=>2015-05-03 16:00:00 +0000}}\n",
      "Query complete for: {:created_at=>{\"$gte\"=>2015-05-03 16:00:00 +0000, \"$lt\"=>2015-05-03 20:00:00 +0000}}\n",
      "Query complete for: {:created_at=>{\"$gte\"=>2015-05-03 20:00:00 +0000, \"$lt\"=>2015-05-04 00:00:00 +0000}}\n",
      "Query complete for: {:created_at=>{\"$gte\"=>2015-05-04 00:00:00 +0000, \"$lt\"=>2015-05-04 04:00:00 +0000}}\n",
      "Query complete for: {:created_at=>{\"$gte\"=>2015-05-04 04:00:00 +0000, \"$lt\"=>2015-05-04 08:00:00 +0000}}\n",
      "Query complete for: {:created_at=>{\"$gte\"=>2015-05-04 08:00:00 +0000, \"$lt\"=>2015-05-04 12:00:00 +0000}}\n",
      "Query complete for: {:created_at=>{\"$gte\"=>2015-05-04 12:00:00 +0000, \"$lt\"=>2015-05-04 16:00:00 +0000}}\n",
      "Query complete for: {:created_at=>{\"$gte\"=>2015-05-04 16:00:00 +0000, \"$lt\"=>2015-05-04 20:00:00 +0000}}\n",
      "Query complete for: {:created_at=>{\"$gte\"=>2015-05-04 20:00:00 +0000, \"$lt\"=>2015-05-05 00:00:00 +0000}}\n",
      "Query complete for: {:created_at=>{\"$gte\"=>2015-05-05 00:00:00 +0000, \"$lt\"=>2015-05-05 04:00:00 +0000}}\n",
      "Query complete for: {:created_at=>{\"$gte\"=>2015-05-05 04:00:00 +0000, \"$lt\"=>2015-05-05 08:00:00 +0000}}\n",
      "Query complete for: {:created_at=>{\"$gte\"=>2015-05-05 08:00:00 +0000, \"$lt\"=>2015-05-05 12:00:00 +0000}}\n",
      "Query complete for: {:created_at=>{\"$gte\"=>2015-05-05 12:00:00 +0000, \"$lt\"=>2015-05-05 16:00:00 +0000}}\n",
      "Query complete for: {:created_at=>{\"$gte\"=>2015-05-05 16:00:00 +0000, \"$lt\"=>2015-05-05 20:00:00 +0000}}\n",
      "Query complete for: {:created_at=>{\"$gte\"=>2015-05-05 20:00:00 +0000, \"$lt\"=>2015-05-06 00:00:00 +0000}}\n",
      "Query complete for: {:created_at=>{\"$gte\"=>2015-05-06 00:00:00 +0000, \"$lt\"=>2015-05-06 04:00:00 +0000}}\n",
      "Query complete for: {:created_at=>{\"$gte\"=>2015-05-06 04:00:00 +0000, \"$lt\"=>2015-05-06 08:00:00 +0000}}\n",
      "Query complete for: {:created_at=>{\"$gte\"=>2015-05-06 08:00:00 +0000, \"$lt\"=>2015-05-06 12:00:00 +0000}}\n",
      "Query complete for: {:created_at=>{\"$gte\"=>2015-05-06 12:00:00 +0000, \"$lt\"=>2015-05-06 16:00:00 +0000}}\n",
      "Query complete for: {:created_at=>{\"$gte\"=>2015-05-06 16:00:00 +0000, \"$lt\"=>2015-05-06 20:00:00 +0000}}\n",
      "Query complete for: {:created_at=>{\"$gte\"=>2015-05-06 20:00:00 +0000, \"$lt\"=>2015-05-07 00:00:00 +0000}}\n",
      "Query complete for: {:created_at=>{\"$gte\"=>2015-05-07 00:00:00 +0000, \"$lt\"=>2015-05-07 04:00:00 +0000}}\n",
      "Query complete for: {:created_at=>{\"$gte\"=>2015-05-07 04:00:00 +0000, \"$lt\"=>2015-05-07 08:00:00 +0000}}\n",
      "Query complete for: {:created_at=>{\"$gte\"=>2015-05-07 08:00:00 +0000, \"$lt\"=>2015-05-07 12:00:00 +0000}}\n",
      "Query complete for: {:created_at=>{\"$gte\"=>2015-05-07 12:00:00 +0000, \"$lt\"=>2015-05-07 16:00:00 +0000}}\n",
      "Query complete for: {:created_at=>{\"$gte\"=>2015-05-07 16:00:00 +0000, \"$lt\"=>2015-05-07 20:00:00 +0000}}\n",
      "Query complete for: {:created_at=>{\"$gte\"=>2015-05-07 20:00:00 +0000, \"$lt\"=>2015-05-08 00:00:00 +0000}}\n",
      "Query complete for: {:created_at=>{\"$gte\"=>2015-05-08 00:00:00 +0000, \"$lt\"=>2015-05-08 04:00:00 +0000}}\n",
      "Query complete for: {:created_at=>{\"$gte\"=>2015-05-08 04:00:00 +0000, \"$lt\"=>2015-05-08 08:00:00 +0000}}\n",
      "Query complete for: {:created_at=>{\"$gte\"=>2015-05-08 08:00:00 +0000, \"$lt\"=>2015-05-08 12:00:00 +0000}}\n",
      "Query complete for: {:created_at=>{\"$gte\"=>2015-05-08 12:00:00 +0000, \"$lt\"=>2015-05-08 16:00:00 +0000}}\n",
      "Query complete for: {:created_at=>{\"$gte\"=>2015-05-08 16:00:00 +0000, \"$lt\"=>2015-05-08 20:00:00 +0000}}\n",
      "Query complete for: {:created_at=>{\"$gte\"=>2015-05-08 20:00:00 +0000, \"$lt\"=>2015-05-09 00:00:00 +0000}}\n",
      "Query complete for: {:created_at=>{\"$gte\"=>2015-05-09 00:00:00 +0000, \"$lt\"=>2015-05-09 04:00:00 +0000}}\n",
      "Query complete for: {:created_at=>{\"$gte\"=>2015-05-09 04:00:00 +0000, \"$lt\"=>2015-05-09 08:00:00 +0000}}\n",
      "Query complete for: {:created_at=>{\"$gte\"=>2015-05-09 08:00:00 +0000, \"$lt\"=>2015-05-09 12:00:00 +0000}}\n",
      "Query complete for: {:created_at=>{\"$gte\"=>2015-05-09 12:00:00 +0000, \"$lt\"=>2015-05-09 16:00:00 +0000}}\n",
      "Query complete for: {:created_at=>{\"$gte\"=>2015-05-09 16:00:00 +0000, \"$lt\"=>2015-05-09 20:00:00 +0000}}\n",
      "Query complete for: {:created_at=>{\"$gte\"=>2015-05-09 20:00:00 +0000, \"$lt\"=>2015-05-10 00:00:00 +0000}}\n",
      "Query complete for: {:created_at=>{\"$gte\"=>2015-05-10 00:00:00 +0000, \"$lt\"=>2015-05-10 04:00:00 +0000}}\n",
      "Query complete for: {:created_at=>{\"$gte\"=>2015-05-10 04:00:00 +0000, \"$lt\"=>2015-05-10 08:00:00 +0000}}\n",
      "Query complete for: {:created_at=>{\"$gte\"=>2015-05-10 08:00:00 +0000, \"$lt\"=>2015-05-10 12:00:00 +0000}}\n",
      "Query complete for: {:created_at=>{\"$gte\"=>2015-05-10 12:00:00 +0000, \"$lt\"=>2015-05-10 16:00:00 +0000}}\n",
      "Query complete for: {:created_at=>{\"$gte\"=>2015-05-10 16:00:00 +0000, \"$lt\"=>2015-05-10 20:00:00 +0000}}\n",
      "Query complete for: {:created_at=>{\"$gte\"=>2015-05-10 20:00:00 +0000, \"$lt\"=>2015-05-11 00:00:00 +0000}}\n",
      "Query complete for: {:created_at=>{\"$gte\"=>2015-05-11 00:00:00 +0000, \"$lt\"=>2015-05-11 04:00:00 +0000}}\n",
      "Query complete for: {:created_at=>{\"$gte\"=>2015-05-11 04:00:00 +0000, \"$lt\"=>2015-05-11 08:00:00 +0000}}\n",
      "Query complete for: {:created_at=>{\"$gte\"=>2015-05-11 08:00:00 +0000, \"$lt\"=>2015-05-11 12:00:00 +0000}}\n",
      "Query complete for: {:created_at=>{\"$gte\"=>2015-05-11 12:00:00 +0000, \"$lt\"=>2015-05-11 16:00:00 +0000}}\n",
      "Query complete for: {:created_at=>{\"$gte\"=>2015-05-11 16:00:00 +0000, \"$lt\"=>2015-05-11 20:00:00 +0000}}\n",
      "Query complete for: {:created_at=>{\"$gte\"=>2015-05-11 20:00:00 +0000, \"$lt\"=>2015-05-12 00:00:00 +0000}}\n",
      "Query complete for: {:created_at=>{\"$gte\"=>2015-05-12 00:00:00 +0000, \"$lt\"=>2015-05-12 04:00:00 +0000}}\n",
      "Query complete for: {:created_at=>{\"$gte\"=>2015-05-12 04:00:00 +0000, \"$lt\"=>2015-05-12 08:00:00 +0000}}\n",
      "Query complete for: {:created_at=>{\"$gte\"=>2015-05-12 08:00:00 +0000, \"$lt\"=>2015-05-12 12:00:00 +0000}}\n",
      "Query complete for: {:created_at=>{\"$gte\"=>2015-05-12 12:00:00 +0000, \"$lt\"=>2015-05-12 16:00:00 +0000}}\n",
      "Query complete for: {:created_at=>{\"$gte\"=>2015-05-12 16:00:00 +0000, \"$lt\"=>2015-05-12 20:00:00 +0000}}\n",
      "Query complete for: {:created_at=>{\"$gte\"=>2015-05-12 20:00:00 +0000, \"$lt\"=>2015-05-13 00:00:00 +0000}}\n",
      "Query complete for: {:created_at=>{\"$gte\"=>2015-05-13 00:00:00 +0000, \"$lt\"=>2015-05-13 04:00:00 +0000}}\n",
      "Query complete for: {:created_at=>{\"$gte\"=>2015-05-13 04:00:00 +0000, \"$lt\"=>2015-05-13 08:00:00 +0000}}\n",
      "Query complete for: {:created_at=>{\"$gte\"=>2015-05-13 08:00:00 +0000, \"$lt\"=>2015-05-13 12:00:00 +0000}}\n",
      "Query complete for: {:created_at=>{\"$gte\"=>2015-05-13 12:00:00 +0000, \"$lt\"=>2015-05-13 16:00:00 +0000}}\n",
      "Query complete for: {:created_at=>{\"$gte\"=>2015-05-13 16:00:00 +0000, \"$lt\"=>2015-05-13 20:00:00 +0000}}\n",
      "Query complete for: {:created_at=>{\"$gte\"=>2015-05-13 20:00:00 +0000, \"$lt\"=>2015-05-14 00:00:00 +0000}}\n",
      "Query complete for: {:created_at=>{\"$gte\"=>2015-05-14 00:00:00 +0000, \"$lt\"=>2015-05-14 04:00:00 +0000}}\n",
      "Query complete for: {:created_at=>{\"$gte\"=>2015-05-14 04:00:00 +0000, \"$lt\"=>2015-05-14 08:00:00 +0000}}\n",
      "Query complete for: {:created_at=>{\"$gte\"=>2015-05-14 08:00:00 +0000, \"$lt\"=>2015-05-14 12:00:00 +0000}}\n",
      "Query complete for: {:created_at=>{\"$gte\"=>2015-05-14 12:00:00 +0000, \"$lt\"=>2015-05-14 16:00:00 +0000}}\n",
      "Query complete for: {:created_at=>{\"$gte\"=>2015-05-14 16:00:00 +0000, \"$lt\"=>2015-05-14 20:00:00 +0000}}\n",
      "Query complete for: {:created_at=>{\"$gte\"=>2015-05-14 20:00:00 +0000, \"$lt\"=>2015-05-15 00:00:00 +0000}}\n",
      "Query complete for: {:created_at=>{\"$gte\"=>2015-05-15 00:00:00 +0000, \"$lt\"=>2015-05-15 04:00:00 +0000}}\n",
      "Query complete for: {:created_at=>{\"$gte\"=>2015-05-15 04:00:00 +0000, \"$lt\"=>2015-05-15 08:00:00 +0000}}\n",
      "Query complete for: {:created_at=>{\"$gte\"=>2015-05-15 08:00:00 +0000, \"$lt\"=>2015-05-15 12:00:00 +0000}}\n",
      "Query complete for: {:created_at=>{\"$gte\"=>2015-05-15 12:00:00 +0000, \"$lt\"=>2015-05-15 16:00:00 +0000}}\n",
      "Query complete for: {:created_at=>{\"$gte\"=>2015-05-15 16:00:00 +0000, \"$lt\"=>2015-05-15 20:00:00 +0000}}\n",
      "Query complete for: {:created_at=>{\"$gte\"=>2015-05-15 20:00:00 +0000, \"$lt\"=>2015-05-16 00:00:00 +0000}}\n",
      "Query complete for: {:created_at=>{\"$gte\"=>2015-05-16 00:00:00 +0000, \"$lt\"=>2015-05-16 04:00:00 +0000}}\n",
      "Query complete for: {:created_at=>{\"$gte\"=>2015-05-16 04:00:00 +0000, \"$lt\"=>2015-05-16 08:00:00 +0000}}\n",
      "Query complete for: {:created_at=>{\"$gte\"=>2015-05-16 08:00:00 +0000, \"$lt\"=>2015-05-16 12:00:00 +0000}}\n",
      "Query complete for: {:created_at=>{\"$gte\"=>2015-05-16 12:00:00 +0000, \"$lt\"=>2015-05-16 16:00:00 +0000}}\n",
      "Query complete for: {:created_at=>{\"$gte\"=>2015-05-16 16:00:00 +0000, \"$lt\"=>2015-05-16 20:00:00 +0000}}\n",
      "Query complete for: {:created_at=>{\"$gte\"=>2015-05-16 20:00:00 +0000, \"$lt\"=>2015-05-17 00:00:00 +0000}}\n",
      "Query complete for: {:created_at=>{\"$gte\"=>2015-05-17 00:00:00 +0000, \"$lt\"=>2015-05-17 04:00:00 +0000}}\n",
      "Query complete for: {:created_at=>{\"$gte\"=>2015-05-17 04:00:00 +0000, \"$lt\"=>2015-05-17 08:00:00 +0000}}\n",
      "Query complete for: {:created_at=>{\"$gte\"=>2015-05-17 08:00:00 +0000, \"$lt\"=>2015-05-17 12:00:00 +0000}}\n",
      "Query complete for: {:created_at=>{\"$gte\"=>2015-05-17 12:00:00 +0000, \"$lt\"=>2015-05-17 16:00:00 +0000}}\n",
      "Query complete for: {:created_at=>{\"$gte\"=>2015-05-17 16:00:00 +0000, \"$lt\"=>2015-05-17 20:00:00 +0000}}\n",
      "Query complete for: {:created_at=>{\"$gte\"=>2015-05-17 20:00:00 +0000, \"$lt\"=>2015-05-18 00:00:00 +0000}}\n",
      "Query complete for: {:created_at=>{\"$gte\"=>2015-05-18 00:00:00 +0000, \"$lt\"=>2015-05-18 04:00:00 +0000}}\n",
      "Query complete for: {:created_at=>{\"$gte\"=>2015-05-18 04:00:00 +0000, \"$lt\"=>2015-05-18 08:00:00 +0000}}\n",
      "Query complete for: {:created_at=>{\"$gte\"=>2015-05-18 08:00:00 +0000, \"$lt\"=>2015-05-18 12:00:00 +0000}}\n",
      "Query complete for: {:created_at=>{\"$gte\"=>2015-05-18 12:00:00 +0000, \"$lt\"=>2015-05-18 16:00:00 +0000}}\n",
      "Query complete for: {:created_at=>{\"$gte\"=>2015-05-18 16:00:00 +0000, \"$lt\"=>2015-05-18 20:00:00 +0000}}\n",
      "Query complete for: {:created_at=>{\"$gte\"=>2015-05-18 20:00:00 +0000, \"$lt\"=>2015-05-19 00:00:00 +0000}}\n",
      "Query complete for: {:created_at=>{\"$gte\"=>2015-05-19 00:00:00 +0000, \"$lt\"=>2015-05-19 04:00:00 +0000}}\n",
      "Query complete for: {:created_at=>{\"$gte\"=>2015-05-19 04:00:00 +0000, \"$lt\"=>2015-05-19 08:00:00 +0000}}\n",
      "Query complete for: {:created_at=>{\"$gte\"=>2015-05-19 08:00:00 +0000, \"$lt\"=>2015-05-19 12:00:00 +0000}}\n",
      "Query complete for: {:created_at=>{\"$gte\"=>2015-05-19 12:00:00 +0000, \"$lt\"=>2015-05-19 16:00:00 +0000}}\n",
      "Query complete for: {:created_at=>{\"$gte\"=>2015-05-19 16:00:00 +0000, \"$lt\"=>2015-05-19 20:00:00 +0000}}\n",
      "Query complete for: {:created_at=>{\"$gte\"=>2015-05-19 20:00:00 +0000, \"$lt\"=>2015-05-20 00:00:00 +0000}}\n",
      "Query complete for: {:created_at=>{\"$gte\"=>2015-05-20 00:00:00 +0000, \"$lt\"=>2015-05-20 04:00:00 +0000}}\n",
      "Query complete for: {:created_at=>{\"$gte\"=>2015-05-20 04:00:00 +0000, \"$lt\"=>2015-05-20 08:00:00 +0000}}\n",
      "Query complete for: {:created_at=>{\"$gte\"=>2015-05-20 08:00:00 +0000, \"$lt\"=>2015-05-20 12:00:00 +0000}}\n",
      "Query complete for: {:created_at=>{\"$gte\"=>2015-05-20 12:00:00 +0000, \"$lt\"=>2015-05-20 16:00:00 +0000}}\n",
      "Query complete for: {:created_at=>{\"$gte\"=>2015-05-20 16:00:00 +0000, \"$lt\"=>2015-05-20 20:00:00 +0000}}\n",
      "Query complete for: {:created_at=>{\"$gte\"=>2015-05-20 20:00:00 +0000, \"$lt\"=>2015-05-21 00:00:00 +0000}}\n",
      "Query complete for: {:created_at=>{\"$gte\"=>2015-05-21 00:00:00 +0000, \"$lt\"=>2015-05-21 04:00:00 +0000}}\n",
      "Query complete for: {:created_at=>{\"$gte\"=>2015-05-21 04:00:00 +0000, \"$lt\"=>2015-05-21 08:00:00 +0000}}\n",
      "Query complete for: {:created_at=>{\"$gte\"=>2015-05-21 08:00:00 +0000, \"$lt\"=>2015-05-21 12:00:00 +0000}}\n",
      "Query complete for: {:created_at=>{\"$gte\"=>2015-05-21 12:00:00 +0000, \"$lt\"=>2015-05-21 16:00:00 +0000}}\n",
      "Query complete for: {:created_at=>{\"$gte\"=>2015-05-21 16:00:00 +0000, \"$lt\"=>2015-05-21 20:00:00 +0000}}\n",
      "Query complete for: {:created_at=>{\"$gte\"=>2015-05-21 20:00:00 +0000, \"$lt\"=>2015-05-22 00:00:00 +0000}}\n",
      "Query complete for: {:created_at=>{\"$gte\"=>2015-05-22 00:00:00 +0000, \"$lt\"=>2015-05-22 04:00:00 +0000}}\n",
      "Query complete for: {:created_at=>{\"$gte\"=>2015-05-22 04:00:00 +0000, \"$lt\"=>2015-05-22 08:00:00 +0000}}\n",
      "Query complete for: {:created_at=>{\"$gte\"=>2015-05-22 08:00:00 +0000, \"$lt\"=>2015-05-22 12:00:00 +0000}}\n",
      "Query complete for: {:created_at=>{\"$gte\"=>2015-05-22 12:00:00 +0000, \"$lt\"=>2015-05-22 16:00:00 +0000}}\n",
      "Query complete for: {:created_at=>{\"$gte\"=>2015-05-22 16:00:00 +0000, \"$lt\"=>2015-05-22 20:00:00 +0000}}\n",
      "Query complete for: {:created_at=>{\"$gte\"=>2015-05-22 20:00:00 +0000, \"$lt\"=>2015-05-23 00:00:00 +0000}}\n",
      "Query complete for: {:created_at=>{\"$gte\"=>2015-05-23 00:00:00 +0000, \"$lt\"=>2015-05-23 04:00:00 +0000}}\n",
      "Query complete for: {:created_at=>{\"$gte\"=>2015-05-23 04:00:00 +0000, \"$lt\"=>2015-05-23 08:00:00 +0000}}\n",
      "Query complete for: {:created_at=>{\"$gte\"=>2015-05-23 08:00:00 +0000, \"$lt\"=>2015-05-23 12:00:00 +0000}}\n",
      "Query complete for: {:created_at=>{\"$gte\"=>2015-05-23 12:00:00 +0000, \"$lt\"=>2015-05-23 16:00:00 +0000}}\n",
      "Query complete for: {:created_at=>{\"$gte\"=>2015-05-23 16:00:00 +0000, \"$lt\"=>2015-05-23 20:00:00 +0000}}\n",
      "Query complete for: {:created_at=>{\"$gte\"=>2015-05-23 20:00:00 +0000, \"$lt\"=>2015-05-24 00:00:00 +0000}}\n",
      "Query complete for: {:created_at=>{\"$gte\"=>2015-05-24 00:00:00 +0000, \"$lt\"=>2015-05-24 04:00:00 +0000}}\n",
      "Query complete for: {:created_at=>{\"$gte\"=>2015-05-24 04:00:00 +0000, \"$lt\"=>2015-05-24 08:00:00 +0000}}\n",
      "Query complete for: {:created_at=>{\"$gte\"=>2015-05-24 08:00:00 +0000, \"$lt\"=>2015-05-24 12:00:00 +0000}}\n",
      "Query complete for: {:created_at=>{\"$gte\"=>2015-05-24 12:00:00 +0000, \"$lt\"=>2015-05-24 16:00:00 +0000}}\n",
      "Query complete for: {:created_at=>{\"$gte\"=>2015-05-24 16:00:00 +0000, \"$lt\"=>2015-05-24 20:00:00 +0000}}\n",
      "Query complete for: {:created_at=>{\"$gte\"=>2015-05-24 20:00:00 +0000, \"$lt\"=>2015-05-25 00:00:00 +0000}}\n",
      "Query complete for: {:created_at=>{\"$gte\"=>2015-05-25 00:00:00 +0000, \"$lt\"=>2015-05-25 04:00:00 +0000}}\n",
      "Query complete for: {:created_at=>{\"$gte\"=>2015-05-25 04:00:00 +0000, \"$lt\"=>2015-05-25 08:00:00 +0000}}\n",
      "Query complete for: {:created_at=>{\"$gte\"=>2015-05-25 08:00:00 +0000, \"$lt\"=>2015-05-25 12:00:00 +0000}}\n",
      "Query complete for: {:created_at=>{\"$gte\"=>2015-05-25 12:00:00 +0000, \"$lt\"=>2015-05-25 16:00:00 +0000}}\n",
      "Query complete for: {:created_at=>{\"$gte\"=>2015-05-25 16:00:00 +0000, \"$lt\"=>2015-05-25 20:00:00 +0000}}\n",
      "Query complete for: {:created_at=>{\"$gte\"=>2015-05-25 20:00:00 +0000, \"$lt\"=>2015-05-26 00:00:00 +0000}}\n",
      "Query complete for: {:created_at=>{\"$gte\"=>2015-05-26 00:00:00 +0000, \"$lt\"=>2015-05-26 04:00:00 +0000}}\n",
      "Query complete for: {:created_at=>{\"$gte\"=>2015-05-26 04:00:00 +0000, \"$lt\"=>2015-05-26 08:00:00 +0000}}\n",
      "Query complete for: {:created_at=>{\"$gte\"=>2015-05-26 08:00:00 +0000, \"$lt\"=>2015-05-26 12:00:00 +0000}}\n",
      "Query complete for: {:created_at=>{\"$gte\"=>2015-05-26 12:00:00 +0000, \"$lt\"=>2015-05-26 16:00:00 +0000}}\n",
      "Query complete for: {:created_at=>{\"$gte\"=>2015-05-26 16:00:00 +0000, \"$lt\"=>2015-05-26 20:00:00 +0000}}\n",
      "Query complete for: {:created_at=>{\"$gte\"=>2015-05-26 20:00:00 +0000, \"$lt\"=>2015-05-27 00:00:00 +0000}}\n",
      "Query complete for: {:created_at=>{\"$gte\"=>2015-05-27 00:00:00 +0000, \"$lt\"=>2015-05-27 04:00:00 +0000}}\n",
      "Query complete for: {:created_at=>{\"$gte\"=>2015-05-27 04:00:00 +0000, \"$lt\"=>2015-05-27 08:00:00 +0000}}\n",
      "Query complete for: {:created_at=>{\"$gte\"=>2015-05-27 08:00:00 +0000, \"$lt\"=>2015-05-27 12:00:00 +0000}}\n",
      "Query complete for: {:created_at=>{\"$gte\"=>2015-05-27 12:00:00 +0000, \"$lt\"=>2015-05-27 16:00:00 +0000}}\n",
      "Query complete for: {:created_at=>{\"$gte\"=>2015-05-27 16:00:00 +0000, \"$lt\"=>2015-05-27 20:00:00 +0000}}\n",
      "Query complete for: {:created_at=>{\"$gte\"=>2015-05-27 20:00:00 +0000, \"$lt\"=>2015-05-28 00:00:00 +0000}}\n",
      "Query complete for: {:created_at=>{\"$gte\"=>2015-05-28 00:00:00 +0000, \"$lt\"=>2015-05-28 04:00:00 +0000}}\n",
      "Query complete for: {:created_at=>{\"$gte\"=>2015-05-28 04:00:00 +0000, \"$lt\"=>2015-05-28 08:00:00 +0000}}\n",
      "Query complete for: {:created_at=>{\"$gte\"=>2015-05-28 08:00:00 +0000, \"$lt\"=>2015-05-28 12:00:00 +0000}}\n",
      "Query complete for: {:created_at=>{\"$gte\"=>2015-05-28 12:00:00 +0000, \"$lt\"=>2015-05-28 16:00:00 +0000}}\n",
      "Query complete for: {:created_at=>{\"$gte\"=>2015-05-28 16:00:00 +0000, \"$lt\"=>2015-05-28 20:00:00 +0000}}\n",
      "Query complete for: {:created_at=>{\"$gte\"=>2015-05-28 20:00:00 +0000, \"$lt\"=>2015-05-29 00:00:00 +0000}}\n",
      "Query complete for: {:created_at=>{\"$gte\"=>2015-05-29 00:00:00 +0000, \"$lt\"=>2015-05-29 04:00:00 +0000}}\n",
      "Query complete for: {:created_at=>{\"$gte\"=>2015-05-29 04:00:00 +0000, \"$lt\"=>2015-05-29 08:00:00 +0000}}\n",
      "Query complete for: {:created_at=>{\"$gte\"=>2015-05-29 08:00:00 +0000, \"$lt\"=>2015-05-29 12:00:00 +0000}}\n",
      "Query complete for: {:created_at=>{\"$gte\"=>2015-05-29 12:00:00 +0000, \"$lt\"=>2015-05-29 16:00:00 +0000}}\n",
      "Query complete for: {:created_at=>{\"$gte\"=>2015-05-29 16:00:00 +0000, \"$lt\"=>2015-05-29 20:00:00 +0000}}\n",
      "Query complete for: {:created_at=>{\"$gte\"=>2015-05-29 20:00:00 +0000, \"$lt\"=>2015-05-30 00:00:00 +0000}}\n",
      "Query complete for: {:created_at=>{\"$gte\"=>2015-05-30 00:00:00 +0000, \"$lt\"=>2015-05-30 04:00:00 +0000}}\n",
      "Query complete for: {:created_at=>{\"$gte\"=>2015-05-30 04:00:00 +0000, \"$lt\"=>2015-05-30 08:00:00 +0000}}\n",
      "Query complete for: {:created_at=>{\"$gte\"=>2015-05-30 08:00:00 +0000, \"$lt\"=>2015-05-30 12:00:00 +0000}}\n",
      "Query complete for: {:created_at=>{\"$gte\"=>2015-05-30 12:00:00 +0000, \"$lt\"=>2015-05-30 16:00:00 +0000}}\n",
      "Query complete for: {:created_at=>{\"$gte\"=>2015-05-30 16:00:00 +0000, \"$lt\"=>2015-05-30 20:00:00 +0000}}\n",
      "Query complete for: {:created_at=>{\"$gte\"=>2015-05-30 20:00:00 +0000, \"$lt\"=>2015-05-31 00:00:00 +0000}}\n"
     ]
    }
   ],
   "source": [
    "cSets_per_4hours = aw.changesets_x_hour(step: 4);\n",
    "nil"
   ]
  },
  {
   "cell_type": "code",
   "execution_count": 161,
   "metadata": {
    "collapsed": false
   },
   "outputs": [],
   "source": [
    "users_per_4hours = cSets_per_4hours.collect{|bucket| \n",
    "  {time: bucket[:start_date],\n",
    "   all_users: bucket[:objects].collect{|x| x.user}.uniq,\n",
    "   hot_users: bucket[:objects].select{|c| c.comment =~ /hot/}.collect{|x| x.user}.uniq\n",
    "  }\n",
    "}\n",
    "\n",
    "counts_per_4_hours = users_per_4hours.collect{ |d| \n",
    "  { time:      d[:time],\n",
    "    all_users: d[:all_users].count,\n",
    "    hot_users: d[:hot_users].count\n",
    "  }\n",
    "}; nil"
   ]
  },
  {
   "cell_type": "code",
   "execution_count": 162,
   "metadata": {
    "collapsed": false
   },
   "outputs": [
    {
     "name": "stdout",
     "output_type": "stream",
     "text": [
      "All users: 7068\n",
      "HOT users: 6075\n"
     ]
    }
   ],
   "source": [
    "puts \"All users: #{ users_per_4hours.collect{|x| x[:all_users] }.flatten.uniq.length }\"\n",
    "puts \"HOT users: #{ users_per_4hours.collect{|x| x[:hot_users] }.flatten.uniq.length }\"\n",
    "nil"
   ]
  },
  {
   "cell_type": "code",
   "execution_count": 169,
   "metadata": {
    "collapsed": false
   },
   "outputs": [
    {
     "data": {
      "text/plain": [
       "14586"
      ]
     },
     "execution_count": 169,
     "metadata": {},
     "output_type": "execute_result"
    }
   ],
   "source": [
    "#Write out JSON to visualize:\n",
    "require 'json'\n",
    "File.write('json/user_counts_per_4hour.json', counts_per_4_hours.to_json)"
   ]
  },
  {
   "cell_type": "markdown",
   "metadata": {},
   "source": [
    "## Calculate Cumulative New Users?"
   ]
  },
  {
   "cell_type": "code",
   "execution_count": 202,
   "metadata": {
    "collapsed": false
   },
   "outputs": [
    {
     "name": "stdout",
     "output_type": "stream",
     "text": [
      "2015-04-25 00:00:00 +0000: 0, 0\n",
      "2015-04-25 04:00:00 +0000: 0, 4\n",
      "2015-04-25 08:00:00 +0000: 0, 11\n",
      "2015-04-25 12:00:00 +0000: 54, 74\n",
      "2015-04-25 16:00:00 +0000: 197, 227\n",
      "2015-04-25 20:00:00 +0000: 277, 313\n",
      "2015-04-26 00:00:00 +0000: 382, 425\n",
      "2015-04-26 04:00:00 +0000: 489, 539\n",
      "2015-04-26 08:00:00 +0000: 630, 688\n",
      "2015-04-26 12:00:00 +0000: 815, 888\n",
      "2015-04-26 16:00:00 +0000: 966, 1062\n"
     ]
    }
   ],
   "source": [
    "all_users = Set.new\n",
    "hot_users = Set.new\n",
    "cumulative_users = []\n",
    "\n",
    "cSets_per_4hours.each do |bucket|\n",
    "  t_all_users = bucket[:objects].collect{|x| x.user}.uniq.to_set\n",
    "  t_hot_users = bucket[:objects].select{|c| c.comment =~ /hot/}.collect{|x| x.user}.uniq.to_set\n",
    "  \n",
    "  \n",
    "  #Unless THIS set of users is a subset of ALL PREVIOUS users... add the difference!\n",
    "  unless t_all_users.subset?(all_users)\n",
    "    all_users = all_users.merge(t_all_users - all_users)\n",
    "  end\n",
    "  \n",
    "  unless t_hot_users.subset?(hot_users)\n",
    "    hot_users = hot_users.merge(t_hot_users - hot_users)\n",
    "  end\n",
    "    \n",
    "  cumulative_users << {time: bucket[:start_date], all_users: all_users.size, hot_users: hot_users.size}\n",
    "  \n",
    "end\n",
    "\n",
    "cumulative_users[0..10].each do |u|\n",
    "  puts \"#{u[:time]}: #{u[:hot_users]}, #{u[:all_users]}\"\n",
    "end\n",
    "\n",
    "File.write('json/cumulative_user_count.json', cumulative_users.to_json)\n",
    "nil;"
   ]
  },
  {
   "cell_type": "markdown",
   "metadata": {},
   "source": [
    "testing: {{x}}"
   ]
  },
  {
   "cell_type": "markdown",
   "metadata": {
    "collapsed": true
   },
   "source": [
    "## Building Statistics"
   ]
  },
  {
   "cell_type": "code",
   "execution_count": 3,
   "metadata": {
    "collapsed": false,
    "scrolled": true
   },
   "outputs": [
    {
     "name": "stdout",
     "output_type": "stream",
     "text": [
      "{:unit=>:hour, :step=>4, :constraints=>{:version=>1, \"tags.building\"=>{\"$ne\"=>nil}}, :collection=>\"ways\", :type=>DomainObject::Way}\n",
      "Query complete for: {:created_at=>{\"$gte\"=>2015-04-25 00:00:00 +0000, \"$lt\"=>2015-04-25 04:00:00 +0000}, :version=>1, \"tags.building\"=>{\"$ne\"=>nil}}\n",
      "Query complete for: {:created_at=>{\"$gte\"=>2015-04-25 04:00:00 +0000, \"$lt\"=>2015-04-25 08:00:00 +0000}, :version=>1, \"tags.building\"=>{\"$ne\"=>nil}}\n",
      "Query complete for: {:created_at=>{\"$gte\"=>2015-04-25 08:00:00 +0000, \"$lt\"=>2015-04-25 12:00:00 +0000}, :version=>1, \"tags.building\"=>{\"$ne\"=>nil}}\n",
      "Query complete for: {:created_at=>{\"$gte\"=>2015-04-25 12:00:00 +0000, \"$lt\"=>2015-04-25 16:00:00 +0000}, :version=>1, \"tags.building\"=>{\"$ne\"=>nil}}\n",
      "Query complete for: {:created_at=>{\"$gte\"=>2015-04-25 16:00:00 +0000, \"$lt\"=>2015-04-25 20:00:00 +0000}, :version=>1, \"tags.building\"=>{\"$ne\"=>nil}}\n",
      "Query complete for: {:created_at=>{\"$gte\"=>2015-04-25 20:00:00 +0000, \"$lt\"=>2015-04-26 00:00:00 +0000}, :version=>1, \"tags.building\"=>{\"$ne\"=>nil}}\n",
      "Query complete for: {:created_at=>{\"$gte\"=>2015-04-26 00:00:00 +0000, \"$lt\"=>2015-04-26 04:00:00 +0000}, :version=>1, \"tags.building\"=>{\"$ne\"=>nil}}\n",
      "Query complete for: {:created_at=>{\"$gte\"=>2015-04-26 04:00:00 +0000, \"$lt\"=>2015-04-26 08:00:00 +0000}, :version=>1, \"tags.building\"=>{\"$ne\"=>nil}}\n",
      "Query complete for: {:created_at=>{\"$gte\"=>2015-04-26 08:00:00 +0000, \"$lt\"=>2015-04-26 12:00:00 +0000}, :version=>1, \"tags.building\"=>{\"$ne\"=>nil}}\n",
      "Query complete for: {:created_at=>{\"$gte\"=>2015-04-26 12:00:00 +0000, \"$lt\"=>2015-04-26 16:00:00 +0000}, :version=>1, \"tags.building\"=>{\"$ne\"=>nil}}\n",
      "Query complete for: {:created_at=>{\"$gte\"=>2015-04-26 16:00:00 +0000, \"$lt\"=>2015-04-26 20:00:00 +0000}, :version=>1, \"tags.building\"=>{\"$ne\"=>nil}}\n",
      "Query complete for: {:created_at=>{\"$gte\"=>2015-04-26 20:00:00 +0000, \"$lt\"=>2015-04-27 00:00:00 +0000}, :version=>1, \"tags.building\"=>{\"$ne\"=>nil}}\n",
      "Query complete for: {:created_at=>{\"$gte\"=>2015-04-27 00:00:00 +0000, \"$lt\"=>2015-04-27 04:00:00 +0000}, :version=>1, \"tags.building\"=>{\"$ne\"=>nil}}\n",
      "Query complete for: {:created_at=>{\"$gte\"=>2015-04-27 04:00:00 +0000, \"$lt\"=>2015-04-27 08:00:00 +0000}, :version=>1, \"tags.building\"=>{\"$ne\"=>nil}}\n",
      "Query complete for: {:created_at=>{\"$gte\"=>2015-04-27 08:00:00 +0000, \"$lt\"=>2015-04-27 12:00:00 +0000}, :version=>1, \"tags.building\"=>{\"$ne\"=>nil}}\n",
      "Query complete for: {:created_at=>{\"$gte\"=>2015-04-27 12:00:00 +0000, \"$lt\"=>2015-04-27 16:00:00 +0000}, :version=>1, \"tags.building\"=>{\"$ne\"=>nil}}\n",
      "Query complete for: {:created_at=>{\"$gte\"=>2015-04-27 16:00:00 +0000, \"$lt\"=>2015-04-27 20:00:00 +0000}, :version=>1, \"tags.building\"=>{\"$ne\"=>nil}}\n",
      "Query complete for: {:created_at=>{\"$gte\"=>2015-04-27 20:00:00 +0000, \"$lt\"=>2015-04-28 00:00:00 +0000}, :version=>1, \"tags.building\"=>{\"$ne\"=>nil}}\n",
      "Query complete for: {:created_at=>{\"$gte\"=>2015-04-28 00:00:00 +0000, \"$lt\"=>2015-04-28 04:00:00 +0000}, :version=>1, \"tags.building\"=>{\"$ne\"=>nil}}\n",
      "Query complete for: {:created_at=>{\"$gte\"=>2015-04-28 04:00:00 +0000, \"$lt\"=>2015-04-28 08:00:00 +0000}, :version=>1, \"tags.building\"=>{\"$ne\"=>nil}}\n",
      "Query complete for: {:created_at=>{\"$gte\"=>2015-04-28 08:00:00 +0000, \"$lt\"=>2015-04-28 12:00:00 +0000}, :version=>1, \"tags.building\"=>{\"$ne\"=>nil}}\n",
      "Query complete for: {:created_at=>{\"$gte\"=>2015-04-28 12:00:00 +0000, \"$lt\"=>2015-04-28 16:00:00 +0000}, :version=>1, \"tags.building\"=>{\"$ne\"=>nil}}\n",
      "Query complete for: {:created_at=>{\"$gte\"=>2015-04-28 16:00:00 +0000, \"$lt\"=>2015-04-28 20:00:00 +0000}, :version=>1, \"tags.building\"=>{\"$ne\"=>nil}}\n",
      "Query complete for: {:created_at=>{\"$gte\"=>2015-04-28 20:00:00 +0000, \"$lt\"=>2015-04-29 00:00:00 +0000}, :version=>1, \"tags.building\"=>{\"$ne\"=>nil}}\n",
      "Query complete for: {:created_at=>{\"$gte\"=>2015-04-29 00:00:00 +0000, \"$lt\"=>2015-04-29 04:00:00 +0000}, :version=>1, \"tags.building\"=>{\"$ne\"=>nil}}\n",
      "Query complete for: {:created_at=>{\"$gte\"=>2015-04-29 04:00:00 +0000, \"$lt\"=>2015-04-29 08:00:00 +0000}, :version=>1, \"tags.building\"=>{\"$ne\"=>nil}}\n",
      "Query complete for: {:created_at=>{\"$gte\"=>2015-04-29 08:00:00 +0000, \"$lt\"=>2015-04-29 12:00:00 +0000}, :version=>1, \"tags.building\"=>{\"$ne\"=>nil}}\n",
      "Query complete for: {:created_at=>{\"$gte\"=>2015-04-29 12:00:00 +0000, \"$lt\"=>2015-04-29 16:00:00 +0000}, :version=>1, \"tags.building\"=>{\"$ne\"=>nil}}\n",
      "Query complete for: {:created_at=>{\"$gte\"=>2015-04-29 16:00:00 +0000, \"$lt\"=>2015-04-29 20:00:00 +0000}, :version=>1, \"tags.building\"=>{\"$ne\"=>nil}}\n",
      "Query complete for: {:created_at=>{\"$gte\"=>2015-04-29 20:00:00 +0000, \"$lt\"=>2015-04-30 00:00:00 +0000}, :version=>1, \"tags.building\"=>{\"$ne\"=>nil}}\n",
      "Query complete for: {:created_at=>{\"$gte\"=>2015-04-30 00:00:00 +0000, \"$lt\"=>2015-04-30 04:00:00 +0000}, :version=>1, \"tags.building\"=>{\"$ne\"=>nil}}\n",
      "Query complete for: {:created_at=>{\"$gte\"=>2015-04-30 04:00:00 +0000, \"$lt\"=>2015-04-30 08:00:00 +0000}, :version=>1, \"tags.building\"=>{\"$ne\"=>nil}}\n",
      "Query complete for: {:created_at=>{\"$gte\"=>2015-04-30 08:00:00 +0000, \"$lt\"=>2015-04-30 12:00:00 +0000}, :version=>1, \"tags.building\"=>{\"$ne\"=>nil}}\n",
      "Query complete for: {:created_at=>{\"$gte\"=>2015-04-30 12:00:00 +0000, \"$lt\"=>2015-04-30 16:00:00 +0000}, :version=>1, \"tags.building\"=>{\"$ne\"=>nil}}\n",
      "Query complete for: {:created_at=>{\"$gte\"=>2015-04-30 16:00:00 +0000, \"$lt\"=>2015-04-30 20:00:00 +0000}, :version=>1, \"tags.building\"=>{\"$ne\"=>nil}}\n",
      "Query complete for: {:created_at=>{\"$gte\"=>2015-04-30 20:00:00 +0000, \"$lt\"=>2015-05-01 00:00:00 +0000}, :version=>1, \"tags.building\"=>{\"$ne\"=>nil}}\n",
      "Query complete for: {:created_at=>{\"$gte\"=>2015-05-01 00:00:00 +0000, \"$lt\"=>2015-05-01 04:00:00 +0000}, :version=>1, \"tags.building\"=>{\"$ne\"=>nil}}\n",
      "Query complete for: {:created_at=>{\"$gte\"=>2015-05-01 04:00:00 +0000, \"$lt\"=>2015-05-01 08:00:00 +0000}, :version=>1, \"tags.building\"=>{\"$ne\"=>nil}}\n",
      "Query complete for: {:created_at=>{\"$gte\"=>2015-05-01 08:00:00 +0000, \"$lt\"=>2015-05-01 12:00:00 +0000}, :version=>1, \"tags.building\"=>{\"$ne\"=>nil}}\n",
      "Query complete for: {:created_at=>{\"$gte\"=>2015-05-01 12:00:00 +0000, \"$lt\"=>2015-05-01 16:00:00 +0000}, :version=>1, \"tags.building\"=>{\"$ne\"=>nil}}\n",
      "Query complete for: {:created_at=>{\"$gte\"=>2015-05-01 16:00:00 +0000, \"$lt\"=>2015-05-01 20:00:00 +0000}, :version=>1, \"tags.building\"=>{\"$ne\"=>nil}}\n",
      "Query complete for: {:created_at=>{\"$gte\"=>2015-05-01 20:00:00 +0000, \"$lt\"=>2015-05-02 00:00:00 +0000}, :version=>1, \"tags.building\"=>{\"$ne\"=>nil}}\n",
      "Query complete for: {:created_at=>{\"$gte\"=>2015-05-02 00:00:00 +0000, \"$lt\"=>2015-05-02 04:00:00 +0000}, :version=>1, \"tags.building\"=>{\"$ne\"=>nil}}\n",
      "Query complete for: {:created_at=>{\"$gte\"=>2015-05-02 04:00:00 +0000, \"$lt\"=>2015-05-02 08:00:00 +0000}, :version=>1, \"tags.building\"=>{\"$ne\"=>nil}}\n",
      "Query complete for: {:created_at=>{\"$gte\"=>2015-05-02 08:00:00 +0000, \"$lt\"=>2015-05-02 12:00:00 +0000}, :version=>1, \"tags.building\"=>{\"$ne\"=>nil}}\n",
      "Query complete for: {:created_at=>{\"$gte\"=>2015-05-02 12:00:00 +0000, \"$lt\"=>2015-05-02 16:00:00 +0000}, :version=>1, \"tags.building\"=>{\"$ne\"=>nil}}\n",
      "Query complete for: {:created_at=>{\"$gte\"=>2015-05-02 16:00:00 +0000, \"$lt\"=>2015-05-02 20:00:00 +0000}, :version=>1, \"tags.building\"=>{\"$ne\"=>nil}}\n",
      "Query complete for: {:created_at=>{\"$gte\"=>2015-05-02 20:00:00 +0000, \"$lt\"=>2015-05-03 00:00:00 +0000}, :version=>1, \"tags.building\"=>{\"$ne\"=>nil}}\n",
      "Query complete for: {:created_at=>{\"$gte\"=>2015-05-03 00:00:00 +0000, \"$lt\"=>2015-05-03 04:00:00 +0000}, :version=>1, \"tags.building\"=>{\"$ne\"=>nil}}\n",
      "Query complete for: {:created_at=>{\"$gte\"=>2015-05-03 04:00:00 +0000, \"$lt\"=>2015-05-03 08:00:00 +0000}, :version=>1, \"tags.building\"=>{\"$ne\"=>nil}}\n",
      "Query complete for: {:created_at=>{\"$gte\"=>2015-05-03 08:00:00 +0000, \"$lt\"=>2015-05-03 12:00:00 +0000}, :version=>1, \"tags.building\"=>{\"$ne\"=>nil}}\n",
      "Query complete for: {:created_at=>{\"$gte\"=>2015-05-03 12:00:00 +0000, \"$lt\"=>2015-05-03 16:00:00 +0000}, :version=>1, \"tags.building\"=>{\"$ne\"=>nil}}\n",
      "Query complete for: {:created_at=>{\"$gte\"=>2015-05-03 16:00:00 +0000, \"$lt\"=>2015-05-03 20:00:00 +0000}, :version=>1, \"tags.building\"=>{\"$ne\"=>nil}}\n",
      "Query complete for: {:created_at=>{\"$gte\"=>2015-05-03 20:00:00 +0000, \"$lt\"=>2015-05-04 00:00:00 +0000}, :version=>1, \"tags.building\"=>{\"$ne\"=>nil}}\n",
      "Query complete for: {:created_at=>{\"$gte\"=>2015-05-04 00:00:00 +0000, \"$lt\"=>2015-05-04 04:00:00 +0000}, :version=>1, \"tags.building\"=>{\"$ne\"=>nil}}\n",
      "Query complete for: {:created_at=>{\"$gte\"=>2015-05-04 04:00:00 +0000, \"$lt\"=>2015-05-04 08:00:00 +0000}, :version=>1, \"tags.building\"=>{\"$ne\"=>nil}}\n",
      "Query complete for: {:created_at=>{\"$gte\"=>2015-05-04 08:00:00 +0000, \"$lt\"=>2015-05-04 12:00:00 +0000}, :version=>1, \"tags.building\"=>{\"$ne\"=>nil}}\n",
      "Query complete for: {:created_at=>{\"$gte\"=>2015-05-04 12:00:00 +0000, \"$lt\"=>2015-05-04 16:00:00 +0000}, :version=>1, \"tags.building\"=>{\"$ne\"=>nil}}\n",
      "Query complete for: {:created_at=>{\"$gte\"=>2015-05-04 16:00:00 +0000, \"$lt\"=>2015-05-04 20:00:00 +0000}, :version=>1, \"tags.building\"=>{\"$ne\"=>nil}}\n",
      "Query complete for: {:created_at=>{\"$gte\"=>2015-05-04 20:00:00 +0000, \"$lt\"=>2015-05-05 00:00:00 +0000}, :version=>1, \"tags.building\"=>{\"$ne\"=>nil}}\n",
      "Query complete for: {:created_at=>{\"$gte\"=>2015-05-05 00:00:00 +0000, \"$lt\"=>2015-05-05 04:00:00 +0000}, :version=>1, \"tags.building\"=>{\"$ne\"=>nil}}\n",
      "Query complete for: {:created_at=>{\"$gte\"=>2015-05-05 04:00:00 +0000, \"$lt\"=>2015-05-05 08:00:00 +0000}, :version=>1, \"tags.building\"=>{\"$ne\"=>nil}}\n",
      "Query complete for: {:created_at=>{\"$gte\"=>2015-05-05 08:00:00 +0000, \"$lt\"=>2015-05-05 12:00:00 +0000}, :version=>1, \"tags.building\"=>{\"$ne\"=>nil}}\n",
      "Query complete for: {:created_at=>{\"$gte\"=>2015-05-05 12:00:00 +0000, \"$lt\"=>2015-05-05 16:00:00 +0000}, :version=>1, \"tags.building\"=>{\"$ne\"=>nil}}\n",
      "Query complete for: {:created_at=>{\"$gte\"=>2015-05-05 16:00:00 +0000, \"$lt\"=>2015-05-05 20:00:00 +0000}, :version=>1, \"tags.building\"=>{\"$ne\"=>nil}}\n",
      "Query complete for: {:created_at=>{\"$gte\"=>2015-05-05 20:00:00 +0000, \"$lt\"=>2015-05-06 00:00:00 +0000}, :version=>1, \"tags.building\"=>{\"$ne\"=>nil}}\n",
      "Query complete for: {:created_at=>{\"$gte\"=>2015-05-06 00:00:00 +0000, \"$lt\"=>2015-05-06 04:00:00 +0000}, :version=>1, \"tags.building\"=>{\"$ne\"=>nil}}\n",
      "Query complete for: {:created_at=>{\"$gte\"=>2015-05-06 04:00:00 +0000, \"$lt\"=>2015-05-06 08:00:00 +0000}, :version=>1, \"tags.building\"=>{\"$ne\"=>nil}}\n",
      "Query complete for: {:created_at=>{\"$gte\"=>2015-05-06 08:00:00 +0000, \"$lt\"=>2015-05-06 12:00:00 +0000}, :version=>1, \"tags.building\"=>{\"$ne\"=>nil}}\n",
      "Query complete for: {:created_at=>{\"$gte\"=>2015-05-06 12:00:00 +0000, \"$lt\"=>2015-05-06 16:00:00 +0000}, :version=>1, \"tags.building\"=>{\"$ne\"=>nil}}\n",
      "Query complete for: {:created_at=>{\"$gte\"=>2015-05-06 16:00:00 +0000, \"$lt\"=>2015-05-06 20:00:00 +0000}, :version=>1, \"tags.building\"=>{\"$ne\"=>nil}}\n",
      "Query complete for: {:created_at=>{\"$gte\"=>2015-05-06 20:00:00 +0000, \"$lt\"=>2015-05-07 00:00:00 +0000}, :version=>1, \"tags.building\"=>{\"$ne\"=>nil}}\n",
      "Query complete for: {:created_at=>{\"$gte\"=>2015-05-07 00:00:00 +0000, \"$lt\"=>2015-05-07 04:00:00 +0000}, :version=>1, \"tags.building\"=>{\"$ne\"=>nil}}\n",
      "Query complete for: {:created_at=>{\"$gte\"=>2015-05-07 04:00:00 +0000, \"$lt\"=>2015-05-07 08:00:00 +0000}, :version=>1, \"tags.building\"=>{\"$ne\"=>nil}}\n",
      "Query complete for: {:created_at=>{\"$gte\"=>2015-05-07 08:00:00 +0000, \"$lt\"=>2015-05-07 12:00:00 +0000}, :version=>1, \"tags.building\"=>{\"$ne\"=>nil}}\n",
      "Query complete for: {:created_at=>{\"$gte\"=>2015-05-07 12:00:00 +0000, \"$lt\"=>2015-05-07 16:00:00 +0000}, :version=>1, \"tags.building\"=>{\"$ne\"=>nil}}\n",
      "Query complete for: {:created_at=>{\"$gte\"=>2015-05-07 16:00:00 +0000, \"$lt\"=>2015-05-07 20:00:00 +0000}, :version=>1, \"tags.building\"=>{\"$ne\"=>nil}}\n",
      "Query complete for: {:created_at=>{\"$gte\"=>2015-05-07 20:00:00 +0000, \"$lt\"=>2015-05-08 00:00:00 +0000}, :version=>1, \"tags.building\"=>{\"$ne\"=>nil}}\n",
      "Query complete for: {:created_at=>{\"$gte\"=>2015-05-08 00:00:00 +0000, \"$lt\"=>2015-05-08 04:00:00 +0000}, :version=>1, \"tags.building\"=>{\"$ne\"=>nil}}\n",
      "Query complete for: {:created_at=>{\"$gte\"=>2015-05-08 04:00:00 +0000, \"$lt\"=>2015-05-08 08:00:00 +0000}, :version=>1, \"tags.building\"=>{\"$ne\"=>nil}}\n",
      "Query complete for: {:created_at=>{\"$gte\"=>2015-05-08 08:00:00 +0000, \"$lt\"=>2015-05-08 12:00:00 +0000}, :version=>1, \"tags.building\"=>{\"$ne\"=>nil}}\n",
      "Query complete for: {:created_at=>{\"$gte\"=>2015-05-08 12:00:00 +0000, \"$lt\"=>2015-05-08 16:00:00 +0000}, :version=>1, \"tags.building\"=>{\"$ne\"=>nil}}\n",
      "Query complete for: {:created_at=>{\"$gte\"=>2015-05-08 16:00:00 +0000, \"$lt\"=>2015-05-08 20:00:00 +0000}, :version=>1, \"tags.building\"=>{\"$ne\"=>nil}}\n",
      "Query complete for: {:created_at=>{\"$gte\"=>2015-05-08 20:00:00 +0000, \"$lt\"=>2015-05-09 00:00:00 +0000}, :version=>1, \"tags.building\"=>{\"$ne\"=>nil}}\n",
      "Query complete for: {:created_at=>{\"$gte\"=>2015-05-09 00:00:00 +0000, \"$lt\"=>2015-05-09 04:00:00 +0000}, :version=>1, \"tags.building\"=>{\"$ne\"=>nil}}\n",
      "Query complete for: {:created_at=>{\"$gte\"=>2015-05-09 04:00:00 +0000, \"$lt\"=>2015-05-09 08:00:00 +0000}, :version=>1, \"tags.building\"=>{\"$ne\"=>nil}}\n",
      "Query complete for: {:created_at=>{\"$gte\"=>2015-05-09 08:00:00 +0000, \"$lt\"=>2015-05-09 12:00:00 +0000}, :version=>1, \"tags.building\"=>{\"$ne\"=>nil}}\n",
      "Query complete for: {:created_at=>{\"$gte\"=>2015-05-09 12:00:00 +0000, \"$lt\"=>2015-05-09 16:00:00 +0000}, :version=>1, \"tags.building\"=>{\"$ne\"=>nil}}\n",
      "Query complete for: {:created_at=>{\"$gte\"=>2015-05-09 16:00:00 +0000, \"$lt\"=>2015-05-09 20:00:00 +0000}, :version=>1, \"tags.building\"=>{\"$ne\"=>nil}}\n",
      "Query complete for: {:created_at=>{\"$gte\"=>2015-05-09 20:00:00 +0000, \"$lt\"=>2015-05-10 00:00:00 +0000}, :version=>1, \"tags.building\"=>{\"$ne\"=>nil}}\n",
      "Query complete for: {:created_at=>{\"$gte\"=>2015-05-10 00:00:00 +0000, \"$lt\"=>2015-05-10 04:00:00 +0000}, :version=>1, \"tags.building\"=>{\"$ne\"=>nil}}\n",
      "Query complete for: {:created_at=>{\"$gte\"=>2015-05-10 04:00:00 +0000, \"$lt\"=>2015-05-10 08:00:00 +0000}, :version=>1, \"tags.building\"=>{\"$ne\"=>nil}}\n",
      "Query complete for: {:created_at=>{\"$gte\"=>2015-05-10 08:00:00 +0000, \"$lt\"=>2015-05-10 12:00:00 +0000}, :version=>1, \"tags.building\"=>{\"$ne\"=>nil}}\n",
      "Query complete for: {:created_at=>{\"$gte\"=>2015-05-10 12:00:00 +0000, \"$lt\"=>2015-05-10 16:00:00 +0000}, :version=>1, \"tags.building\"=>{\"$ne\"=>nil}}\n",
      "Query complete for: {:created_at=>{\"$gte\"=>2015-05-10 16:00:00 +0000, \"$lt\"=>2015-05-10 20:00:00 +0000}, :version=>1, \"tags.building\"=>{\"$ne\"=>nil}}\n",
      "Query complete for: {:created_at=>{\"$gte\"=>2015-05-10 20:00:00 +0000, \"$lt\"=>2015-05-11 00:00:00 +0000}, :version=>1, \"tags.building\"=>{\"$ne\"=>nil}}\n",
      "Query complete for: {:created_at=>{\"$gte\"=>2015-05-11 00:00:00 +0000, \"$lt\"=>2015-05-11 04:00:00 +0000}, :version=>1, \"tags.building\"=>{\"$ne\"=>nil}}\n",
      "Query complete for: {:created_at=>{\"$gte\"=>2015-05-11 04:00:00 +0000, \"$lt\"=>2015-05-11 08:00:00 +0000}, :version=>1, \"tags.building\"=>{\"$ne\"=>nil}}\n",
      "Query complete for: {:created_at=>{\"$gte\"=>2015-05-11 08:00:00 +0000, \"$lt\"=>2015-05-11 12:00:00 +0000}, :version=>1, \"tags.building\"=>{\"$ne\"=>nil}}\n",
      "Query complete for: {:created_at=>{\"$gte\"=>2015-05-11 12:00:00 +0000, \"$lt\"=>2015-05-11 16:00:00 +0000}, :version=>1, \"tags.building\"=>{\"$ne\"=>nil}}\n",
      "Query complete for: {:created_at=>{\"$gte\"=>2015-05-11 16:00:00 +0000, \"$lt\"=>2015-05-11 20:00:00 +0000}, :version=>1, \"tags.building\"=>{\"$ne\"=>nil}}\n",
      "Query complete for: {:created_at=>{\"$gte\"=>2015-05-11 20:00:00 +0000, \"$lt\"=>2015-05-12 00:00:00 +0000}, :version=>1, \"tags.building\"=>{\"$ne\"=>nil}}\n",
      "Query complete for: {:created_at=>{\"$gte\"=>2015-05-12 00:00:00 +0000, \"$lt\"=>2015-05-12 04:00:00 +0000}, :version=>1, \"tags.building\"=>{\"$ne\"=>nil}}\n",
      "Query complete for: {:created_at=>{\"$gte\"=>2015-05-12 04:00:00 +0000, \"$lt\"=>2015-05-12 08:00:00 +0000}, :version=>1, \"tags.building\"=>{\"$ne\"=>nil}}\n",
      "Query complete for: {:created_at=>{\"$gte\"=>2015-05-12 08:00:00 +0000, \"$lt\"=>2015-05-12 12:00:00 +0000}, :version=>1, \"tags.building\"=>{\"$ne\"=>nil}}\n",
      "Query complete for: {:created_at=>{\"$gte\"=>2015-05-12 12:00:00 +0000, \"$lt\"=>2015-05-12 16:00:00 +0000}, :version=>1, \"tags.building\"=>{\"$ne\"=>nil}}\n",
      "Query complete for: {:created_at=>{\"$gte\"=>2015-05-12 16:00:00 +0000, \"$lt\"=>2015-05-12 20:00:00 +0000}, :version=>1, \"tags.building\"=>{\"$ne\"=>nil}}\n",
      "Query complete for: {:created_at=>{\"$gte\"=>2015-05-12 20:00:00 +0000, \"$lt\"=>2015-05-13 00:00:00 +0000}, :version=>1, \"tags.building\"=>{\"$ne\"=>nil}}\n",
      "Query complete for: {:created_at=>{\"$gte\"=>2015-05-13 00:00:00 +0000, \"$lt\"=>2015-05-13 04:00:00 +0000}, :version=>1, \"tags.building\"=>{\"$ne\"=>nil}}\n",
      "Query complete for: {:created_at=>{\"$gte\"=>2015-05-13 04:00:00 +0000, \"$lt\"=>2015-05-13 08:00:00 +0000}, :version=>1, \"tags.building\"=>{\"$ne\"=>nil}}\n",
      "Query complete for: {:created_at=>{\"$gte\"=>2015-05-13 08:00:00 +0000, \"$lt\"=>2015-05-13 12:00:00 +0000}, :version=>1, \"tags.building\"=>{\"$ne\"=>nil}}\n",
      "Query complete for: {:created_at=>{\"$gte\"=>2015-05-13 12:00:00 +0000, \"$lt\"=>2015-05-13 16:00:00 +0000}, :version=>1, \"tags.building\"=>{\"$ne\"=>nil}}\n",
      "Query complete for: {:created_at=>{\"$gte\"=>2015-05-13 16:00:00 +0000, \"$lt\"=>2015-05-13 20:00:00 +0000}, :version=>1, \"tags.building\"=>{\"$ne\"=>nil}}\n",
      "Query complete for: {:created_at=>{\"$gte\"=>2015-05-13 20:00:00 +0000, \"$lt\"=>2015-05-14 00:00:00 +0000}, :version=>1, \"tags.building\"=>{\"$ne\"=>nil}}\n",
      "Query complete for: {:created_at=>{\"$gte\"=>2015-05-14 00:00:00 +0000, \"$lt\"=>2015-05-14 04:00:00 +0000}, :version=>1, \"tags.building\"=>{\"$ne\"=>nil}}\n",
      "Query complete for: {:created_at=>{\"$gte\"=>2015-05-14 04:00:00 +0000, \"$lt\"=>2015-05-14 08:00:00 +0000}, :version=>1, \"tags.building\"=>{\"$ne\"=>nil}}\n",
      "Query complete for: {:created_at=>{\"$gte\"=>2015-05-14 08:00:00 +0000, \"$lt\"=>2015-05-14 12:00:00 +0000}, :version=>1, \"tags.building\"=>{\"$ne\"=>nil}}\n",
      "Query complete for: {:created_at=>{\"$gte\"=>2015-05-14 12:00:00 +0000, \"$lt\"=>2015-05-14 16:00:00 +0000}, :version=>1, \"tags.building\"=>{\"$ne\"=>nil}}\n",
      "Query complete for: {:created_at=>{\"$gte\"=>2015-05-14 16:00:00 +0000, \"$lt\"=>2015-05-14 20:00:00 +0000}, :version=>1, \"tags.building\"=>{\"$ne\"=>nil}}\n",
      "Query complete for: {:created_at=>{\"$gte\"=>2015-05-14 20:00:00 +0000, \"$lt\"=>2015-05-15 00:00:00 +0000}, :version=>1, \"tags.building\"=>{\"$ne\"=>nil}}\n",
      "Query complete for: {:created_at=>{\"$gte\"=>2015-05-15 00:00:00 +0000, \"$lt\"=>2015-05-15 04:00:00 +0000}, :version=>1, \"tags.building\"=>{\"$ne\"=>nil}}\n",
      "Query complete for: {:created_at=>{\"$gte\"=>2015-05-15 04:00:00 +0000, \"$lt\"=>2015-05-15 08:00:00 +0000}, :version=>1, \"tags.building\"=>{\"$ne\"=>nil}}\n",
      "Query complete for: {:created_at=>{\"$gte\"=>2015-05-15 08:00:00 +0000, \"$lt\"=>2015-05-15 12:00:00 +0000}, :version=>1, \"tags.building\"=>{\"$ne\"=>nil}}\n",
      "Query complete for: {:created_at=>{\"$gte\"=>2015-05-15 12:00:00 +0000, \"$lt\"=>2015-05-15 16:00:00 +0000}, :version=>1, \"tags.building\"=>{\"$ne\"=>nil}}\n",
      "Query complete for: {:created_at=>{\"$gte\"=>2015-05-15 16:00:00 +0000, \"$lt\"=>2015-05-15 20:00:00 +0000}, :version=>1, \"tags.building\"=>{\"$ne\"=>nil}}\n",
      "Query complete for: {:created_at=>{\"$gte\"=>2015-05-15 20:00:00 +0000, \"$lt\"=>2015-05-16 00:00:00 +0000}, :version=>1, \"tags.building\"=>{\"$ne\"=>nil}}\n",
      "Query complete for: {:created_at=>{\"$gte\"=>2015-05-16 00:00:00 +0000, \"$lt\"=>2015-05-16 04:00:00 +0000}, :version=>1, \"tags.building\"=>{\"$ne\"=>nil}}\n",
      "Query complete for: {:created_at=>{\"$gte\"=>2015-05-16 04:00:00 +0000, \"$lt\"=>2015-05-16 08:00:00 +0000}, :version=>1, \"tags.building\"=>{\"$ne\"=>nil}}\n",
      "Query complete for: {:created_at=>{\"$gte\"=>2015-05-16 08:00:00 +0000, \"$lt\"=>2015-05-16 12:00:00 +0000}, :version=>1, \"tags.building\"=>{\"$ne\"=>nil}}\n",
      "Query complete for: {:created_at=>{\"$gte\"=>2015-05-16 12:00:00 +0000, \"$lt\"=>2015-05-16 16:00:00 +0000}, :version=>1, \"tags.building\"=>{\"$ne\"=>nil}}\n",
      "Query complete for: {:created_at=>{\"$gte\"=>2015-05-16 16:00:00 +0000, \"$lt\"=>2015-05-16 20:00:00 +0000}, :version=>1, \"tags.building\"=>{\"$ne\"=>nil}}\n",
      "Query complete for: {:created_at=>{\"$gte\"=>2015-05-16 20:00:00 +0000, \"$lt\"=>2015-05-17 00:00:00 +0000}, :version=>1, \"tags.building\"=>{\"$ne\"=>nil}}\n",
      "Query complete for: {:created_at=>{\"$gte\"=>2015-05-17 00:00:00 +0000, \"$lt\"=>2015-05-17 04:00:00 +0000}, :version=>1, \"tags.building\"=>{\"$ne\"=>nil}}\n",
      "Query complete for: {:created_at=>{\"$gte\"=>2015-05-17 04:00:00 +0000, \"$lt\"=>2015-05-17 08:00:00 +0000}, :version=>1, \"tags.building\"=>{\"$ne\"=>nil}}\n",
      "Query complete for: {:created_at=>{\"$gte\"=>2015-05-17 08:00:00 +0000, \"$lt\"=>2015-05-17 12:00:00 +0000}, :version=>1, \"tags.building\"=>{\"$ne\"=>nil}}\n",
      "Query complete for: {:created_at=>{\"$gte\"=>2015-05-17 12:00:00 +0000, \"$lt\"=>2015-05-17 16:00:00 +0000}, :version=>1, \"tags.building\"=>{\"$ne\"=>nil}}\n",
      "Query complete for: {:created_at=>{\"$gte\"=>2015-05-17 16:00:00 +0000, \"$lt\"=>2015-05-17 20:00:00 +0000}, :version=>1, \"tags.building\"=>{\"$ne\"=>nil}}\n",
      "Query complete for: {:created_at=>{\"$gte\"=>2015-05-17 20:00:00 +0000, \"$lt\"=>2015-05-18 00:00:00 +0000}, :version=>1, \"tags.building\"=>{\"$ne\"=>nil}}\n",
      "Query complete for: {:created_at=>{\"$gte\"=>2015-05-18 00:00:00 +0000, \"$lt\"=>2015-05-18 04:00:00 +0000}, :version=>1, \"tags.building\"=>{\"$ne\"=>nil}}\n",
      "Query complete for: {:created_at=>{\"$gte\"=>2015-05-18 04:00:00 +0000, \"$lt\"=>2015-05-18 08:00:00 +0000}, :version=>1, \"tags.building\"=>{\"$ne\"=>nil}}\n",
      "Query complete for: {:created_at=>{\"$gte\"=>2015-05-18 08:00:00 +0000, \"$lt\"=>2015-05-18 12:00:00 +0000}, :version=>1, \"tags.building\"=>{\"$ne\"=>nil}}\n",
      "Query complete for: {:created_at=>{\"$gte\"=>2015-05-18 12:00:00 +0000, \"$lt\"=>2015-05-18 16:00:00 +0000}, :version=>1, \"tags.building\"=>{\"$ne\"=>nil}}\n",
      "Query complete for: {:created_at=>{\"$gte\"=>2015-05-18 16:00:00 +0000, \"$lt\"=>2015-05-18 20:00:00 +0000}, :version=>1, \"tags.building\"=>{\"$ne\"=>nil}}\n",
      "Query complete for: {:created_at=>{\"$gte\"=>2015-05-18 20:00:00 +0000, \"$lt\"=>2015-05-19 00:00:00 +0000}, :version=>1, \"tags.building\"=>{\"$ne\"=>nil}}\n",
      "Query complete for: {:created_at=>{\"$gte\"=>2015-05-19 00:00:00 +0000, \"$lt\"=>2015-05-19 04:00:00 +0000}, :version=>1, \"tags.building\"=>{\"$ne\"=>nil}}\n",
      "Query complete for: {:created_at=>{\"$gte\"=>2015-05-19 04:00:00 +0000, \"$lt\"=>2015-05-19 08:00:00 +0000}, :version=>1, \"tags.building\"=>{\"$ne\"=>nil}}\n",
      "Query complete for: {:created_at=>{\"$gte\"=>2015-05-19 08:00:00 +0000, \"$lt\"=>2015-05-19 12:00:00 +0000}, :version=>1, \"tags.building\"=>{\"$ne\"=>nil}}\n",
      "Query complete for: {:created_at=>{\"$gte\"=>2015-05-19 12:00:00 +0000, \"$lt\"=>2015-05-19 16:00:00 +0000}, :version=>1, \"tags.building\"=>{\"$ne\"=>nil}}\n",
      "Query complete for: {:created_at=>{\"$gte\"=>2015-05-19 16:00:00 +0000, \"$lt\"=>2015-05-19 20:00:00 +0000}, :version=>1, \"tags.building\"=>{\"$ne\"=>nil}}\n",
      "Query complete for: {:created_at=>{\"$gte\"=>2015-05-19 20:00:00 +0000, \"$lt\"=>2015-05-20 00:00:00 +0000}, :version=>1, \"tags.building\"=>{\"$ne\"=>nil}}\n",
      "Query complete for: {:created_at=>{\"$gte\"=>2015-05-20 00:00:00 +0000, \"$lt\"=>2015-05-20 04:00:00 +0000}, :version=>1, \"tags.building\"=>{\"$ne\"=>nil}}\n",
      "Query complete for: {:created_at=>{\"$gte\"=>2015-05-20 04:00:00 +0000, \"$lt\"=>2015-05-20 08:00:00 +0000}, :version=>1, \"tags.building\"=>{\"$ne\"=>nil}}\n",
      "Query complete for: {:created_at=>{\"$gte\"=>2015-05-20 08:00:00 +0000, \"$lt\"=>2015-05-20 12:00:00 +0000}, :version=>1, \"tags.building\"=>{\"$ne\"=>nil}}\n",
      "Query complete for: {:created_at=>{\"$gte\"=>2015-05-20 12:00:00 +0000, \"$lt\"=>2015-05-20 16:00:00 +0000}, :version=>1, \"tags.building\"=>{\"$ne\"=>nil}}\n",
      "Query complete for: {:created_at=>{\"$gte\"=>2015-05-20 16:00:00 +0000, \"$lt\"=>2015-05-20 20:00:00 +0000}, :version=>1, \"tags.building\"=>{\"$ne\"=>nil}}\n",
      "Query complete for: {:created_at=>{\"$gte\"=>2015-05-20 20:00:00 +0000, \"$lt\"=>2015-05-21 00:00:00 +0000}, :version=>1, \"tags.building\"=>{\"$ne\"=>nil}}\n",
      "Query complete for: {:created_at=>{\"$gte\"=>2015-05-21 00:00:00 +0000, \"$lt\"=>2015-05-21 04:00:00 +0000}, :version=>1, \"tags.building\"=>{\"$ne\"=>nil}}\n",
      "Query complete for: {:created_at=>{\"$gte\"=>2015-05-21 04:00:00 +0000, \"$lt\"=>2015-05-21 08:00:00 +0000}, :version=>1, \"tags.building\"=>{\"$ne\"=>nil}}\n",
      "Query complete for: {:created_at=>{\"$gte\"=>2015-05-21 08:00:00 +0000, \"$lt\"=>2015-05-21 12:00:00 +0000}, :version=>1, \"tags.building\"=>{\"$ne\"=>nil}}\n",
      "Query complete for: {:created_at=>{\"$gte\"=>2015-05-21 12:00:00 +0000, \"$lt\"=>2015-05-21 16:00:00 +0000}, :version=>1, \"tags.building\"=>{\"$ne\"=>nil}}\n",
      "Query complete for: {:created_at=>{\"$gte\"=>2015-05-21 16:00:00 +0000, \"$lt\"=>2015-05-21 20:00:00 +0000}, :version=>1, \"tags.building\"=>{\"$ne\"=>nil}}\n",
      "Query complete for: {:created_at=>{\"$gte\"=>2015-05-21 20:00:00 +0000, \"$lt\"=>2015-05-22 00:00:00 +0000}, :version=>1, \"tags.building\"=>{\"$ne\"=>nil}}\n",
      "Query complete for: {:created_at=>{\"$gte\"=>2015-05-22 00:00:00 +0000, \"$lt\"=>2015-05-22 04:00:00 +0000}, :version=>1, \"tags.building\"=>{\"$ne\"=>nil}}\n",
      "Query complete for: {:created_at=>{\"$gte\"=>2015-05-22 04:00:00 +0000, \"$lt\"=>2015-05-22 08:00:00 +0000}, :version=>1, \"tags.building\"=>{\"$ne\"=>nil}}\n",
      "Query complete for: {:created_at=>{\"$gte\"=>2015-05-22 08:00:00 +0000, \"$lt\"=>2015-05-22 12:00:00 +0000}, :version=>1, \"tags.building\"=>{\"$ne\"=>nil}}\n",
      "Query complete for: {:created_at=>{\"$gte\"=>2015-05-22 12:00:00 +0000, \"$lt\"=>2015-05-22 16:00:00 +0000}, :version=>1, \"tags.building\"=>{\"$ne\"=>nil}}\n",
      "Query complete for: {:created_at=>{\"$gte\"=>2015-05-22 16:00:00 +0000, \"$lt\"=>2015-05-22 20:00:00 +0000}, :version=>1, \"tags.building\"=>{\"$ne\"=>nil}}\n",
      "Query complete for: {:created_at=>{\"$gte\"=>2015-05-22 20:00:00 +0000, \"$lt\"=>2015-05-23 00:00:00 +0000}, :version=>1, \"tags.building\"=>{\"$ne\"=>nil}}\n",
      "Query complete for: {:created_at=>{\"$gte\"=>2015-05-23 00:00:00 +0000, \"$lt\"=>2015-05-23 04:00:00 +0000}, :version=>1, \"tags.building\"=>{\"$ne\"=>nil}}\n",
      "Query complete for: {:created_at=>{\"$gte\"=>2015-05-23 04:00:00 +0000, \"$lt\"=>2015-05-23 08:00:00 +0000}, :version=>1, \"tags.building\"=>{\"$ne\"=>nil}}\n",
      "Query complete for: {:created_at=>{\"$gte\"=>2015-05-23 08:00:00 +0000, \"$lt\"=>2015-05-23 12:00:00 +0000}, :version=>1, \"tags.building\"=>{\"$ne\"=>nil}}\n",
      "Query complete for: {:created_at=>{\"$gte\"=>2015-05-23 12:00:00 +0000, \"$lt\"=>2015-05-23 16:00:00 +0000}, :version=>1, \"tags.building\"=>{\"$ne\"=>nil}}\n",
      "Query complete for: {:created_at=>{\"$gte\"=>2015-05-23 16:00:00 +0000, \"$lt\"=>2015-05-23 20:00:00 +0000}, :version=>1, \"tags.building\"=>{\"$ne\"=>nil}}\n",
      "Query complete for: {:created_at=>{\"$gte\"=>2015-05-23 20:00:00 +0000, \"$lt\"=>2015-05-24 00:00:00 +0000}, :version=>1, \"tags.building\"=>{\"$ne\"=>nil}}\n",
      "Query complete for: {:created_at=>{\"$gte\"=>2015-05-24 00:00:00 +0000, \"$lt\"=>2015-05-24 04:00:00 +0000}, :version=>1, \"tags.building\"=>{\"$ne\"=>nil}}\n",
      "Query complete for: {:created_at=>{\"$gte\"=>2015-05-24 04:00:00 +0000, \"$lt\"=>2015-05-24 08:00:00 +0000}, :version=>1, \"tags.building\"=>{\"$ne\"=>nil}}\n",
      "Query complete for: {:created_at=>{\"$gte\"=>2015-05-24 08:00:00 +0000, \"$lt\"=>2015-05-24 12:00:00 +0000}, :version=>1, \"tags.building\"=>{\"$ne\"=>nil}}\n",
      "Query complete for: {:created_at=>{\"$gte\"=>2015-05-24 12:00:00 +0000, \"$lt\"=>2015-05-24 16:00:00 +0000}, :version=>1, \"tags.building\"=>{\"$ne\"=>nil}}\n",
      "Query complete for: {:created_at=>{\"$gte\"=>2015-05-24 16:00:00 +0000, \"$lt\"=>2015-05-24 20:00:00 +0000}, :version=>1, \"tags.building\"=>{\"$ne\"=>nil}}\n",
      "Query complete for: {:created_at=>{\"$gte\"=>2015-05-24 20:00:00 +0000, \"$lt\"=>2015-05-25 00:00:00 +0000}, :version=>1, \"tags.building\"=>{\"$ne\"=>nil}}\n",
      "Query complete for: {:created_at=>{\"$gte\"=>2015-05-25 00:00:00 +0000, \"$lt\"=>2015-05-25 04:00:00 +0000}, :version=>1, \"tags.building\"=>{\"$ne\"=>nil}}\n",
      "Query complete for: {:created_at=>{\"$gte\"=>2015-05-25 04:00:00 +0000, \"$lt\"=>2015-05-25 08:00:00 +0000}, :version=>1, \"tags.building\"=>{\"$ne\"=>nil}}\n",
      "Query complete for: {:created_at=>{\"$gte\"=>2015-05-25 08:00:00 +0000, \"$lt\"=>2015-05-25 12:00:00 +0000}, :version=>1, \"tags.building\"=>{\"$ne\"=>nil}}\n",
      "Query complete for: {:created_at=>{\"$gte\"=>2015-05-25 12:00:00 +0000, \"$lt\"=>2015-05-25 16:00:00 +0000}, :version=>1, \"tags.building\"=>{\"$ne\"=>nil}}\n",
      "Query complete for: {:created_at=>{\"$gte\"=>2015-05-25 16:00:00 +0000, \"$lt\"=>2015-05-25 20:00:00 +0000}, :version=>1, \"tags.building\"=>{\"$ne\"=>nil}}\n",
      "Query complete for: {:created_at=>{\"$gte\"=>2015-05-25 20:00:00 +0000, \"$lt\"=>2015-05-26 00:00:00 +0000}, :version=>1, \"tags.building\"=>{\"$ne\"=>nil}}\n",
      "Query complete for: {:created_at=>{\"$gte\"=>2015-05-26 00:00:00 +0000, \"$lt\"=>2015-05-26 04:00:00 +0000}, :version=>1, \"tags.building\"=>{\"$ne\"=>nil}}\n",
      "Query complete for: {:created_at=>{\"$gte\"=>2015-05-26 04:00:00 +0000, \"$lt\"=>2015-05-26 08:00:00 +0000}, :version=>1, \"tags.building\"=>{\"$ne\"=>nil}}\n",
      "Query complete for: {:created_at=>{\"$gte\"=>2015-05-26 08:00:00 +0000, \"$lt\"=>2015-05-26 12:00:00 +0000}, :version=>1, \"tags.building\"=>{\"$ne\"=>nil}}\n",
      "Query complete for: {:created_at=>{\"$gte\"=>2015-05-26 12:00:00 +0000, \"$lt\"=>2015-05-26 16:00:00 +0000}, :version=>1, \"tags.building\"=>{\"$ne\"=>nil}}\n",
      "Query complete for: {:created_at=>{\"$gte\"=>2015-05-26 16:00:00 +0000, \"$lt\"=>2015-05-26 20:00:00 +0000}, :version=>1, \"tags.building\"=>{\"$ne\"=>nil}}\n",
      "Query complete for: {:created_at=>{\"$gte\"=>2015-05-26 20:00:00 +0000, \"$lt\"=>2015-05-27 00:00:00 +0000}, :version=>1, \"tags.building\"=>{\"$ne\"=>nil}}\n",
      "Query complete for: {:created_at=>{\"$gte\"=>2015-05-27 00:00:00 +0000, \"$lt\"=>2015-05-27 04:00:00 +0000}, :version=>1, \"tags.building\"=>{\"$ne\"=>nil}}\n",
      "Query complete for: {:created_at=>{\"$gte\"=>2015-05-27 04:00:00 +0000, \"$lt\"=>2015-05-27 08:00:00 +0000}, :version=>1, \"tags.building\"=>{\"$ne\"=>nil}}\n",
      "Query complete for: {:created_at=>{\"$gte\"=>2015-05-27 08:00:00 +0000, \"$lt\"=>2015-05-27 12:00:00 +0000}, :version=>1, \"tags.building\"=>{\"$ne\"=>nil}}\n",
      "Query complete for: {:created_at=>{\"$gte\"=>2015-05-27 12:00:00 +0000, \"$lt\"=>2015-05-27 16:00:00 +0000}, :version=>1, \"tags.building\"=>{\"$ne\"=>nil}}\n",
      "Query complete for: {:created_at=>{\"$gte\"=>2015-05-27 16:00:00 +0000, \"$lt\"=>2015-05-27 20:00:00 +0000}, :version=>1, \"tags.building\"=>{\"$ne\"=>nil}}\n",
      "Query complete for: {:created_at=>{\"$gte\"=>2015-05-27 20:00:00 +0000, \"$lt\"=>2015-05-28 00:00:00 +0000}, :version=>1, \"tags.building\"=>{\"$ne\"=>nil}}\n",
      "Query complete for: {:created_at=>{\"$gte\"=>2015-05-28 00:00:00 +0000, \"$lt\"=>2015-05-28 04:00:00 +0000}, :version=>1, \"tags.building\"=>{\"$ne\"=>nil}}\n",
      "Query complete for: {:created_at=>{\"$gte\"=>2015-05-28 04:00:00 +0000, \"$lt\"=>2015-05-28 08:00:00 +0000}, :version=>1, \"tags.building\"=>{\"$ne\"=>nil}}\n",
      "Query complete for: {:created_at=>{\"$gte\"=>2015-05-28 08:00:00 +0000, \"$lt\"=>2015-05-28 12:00:00 +0000}, :version=>1, \"tags.building\"=>{\"$ne\"=>nil}}\n",
      "Query complete for: {:created_at=>{\"$gte\"=>2015-05-28 12:00:00 +0000, \"$lt\"=>2015-05-28 16:00:00 +0000}, :version=>1, \"tags.building\"=>{\"$ne\"=>nil}}\n",
      "Query complete for: {:created_at=>{\"$gte\"=>2015-05-28 16:00:00 +0000, \"$lt\"=>2015-05-28 20:00:00 +0000}, :version=>1, \"tags.building\"=>{\"$ne\"=>nil}}\n",
      "Query complete for: {:created_at=>{\"$gte\"=>2015-05-28 20:00:00 +0000, \"$lt\"=>2015-05-29 00:00:00 +0000}, :version=>1, \"tags.building\"=>{\"$ne\"=>nil}}\n",
      "Query complete for: {:created_at=>{\"$gte\"=>2015-05-29 00:00:00 +0000, \"$lt\"=>2015-05-29 04:00:00 +0000}, :version=>1, \"tags.building\"=>{\"$ne\"=>nil}}\n",
      "Query complete for: {:created_at=>{\"$gte\"=>2015-05-29 04:00:00 +0000, \"$lt\"=>2015-05-29 08:00:00 +0000}, :version=>1, \"tags.building\"=>{\"$ne\"=>nil}}\n",
      "Query complete for: {:created_at=>{\"$gte\"=>2015-05-29 08:00:00 +0000, \"$lt\"=>2015-05-29 12:00:00 +0000}, :version=>1, \"tags.building\"=>{\"$ne\"=>nil}}\n",
      "Query complete for: {:created_at=>{\"$gte\"=>2015-05-29 12:00:00 +0000, \"$lt\"=>2015-05-29 16:00:00 +0000}, :version=>1, \"tags.building\"=>{\"$ne\"=>nil}}\n",
      "Query complete for: {:created_at=>{\"$gte\"=>2015-05-29 16:00:00 +0000, \"$lt\"=>2015-05-29 20:00:00 +0000}, :version=>1, \"tags.building\"=>{\"$ne\"=>nil}}\n",
      "Query complete for: {:created_at=>{\"$gte\"=>2015-05-29 20:00:00 +0000, \"$lt\"=>2015-05-30 00:00:00 +0000}, :version=>1, \"tags.building\"=>{\"$ne\"=>nil}}\n",
      "Query complete for: {:created_at=>{\"$gte\"=>2015-05-30 00:00:00 +0000, \"$lt\"=>2015-05-30 04:00:00 +0000}, :version=>1, \"tags.building\"=>{\"$ne\"=>nil}}\n",
      "Query complete for: {:created_at=>{\"$gte\"=>2015-05-30 04:00:00 +0000, \"$lt\"=>2015-05-30 08:00:00 +0000}, :version=>1, \"tags.building\"=>{\"$ne\"=>nil}}\n",
      "Query complete for: {:created_at=>{\"$gte\"=>2015-05-30 08:00:00 +0000, \"$lt\"=>2015-05-30 12:00:00 +0000}, :version=>1, \"tags.building\"=>{\"$ne\"=>nil}}\n",
      "Query complete for: {:created_at=>{\"$gte\"=>2015-05-30 12:00:00 +0000, \"$lt\"=>2015-05-30 16:00:00 +0000}, :version=>1, \"tags.building\"=>{\"$ne\"=>nil}}\n",
      "Query complete for: {:created_at=>{\"$gte\"=>2015-05-30 16:00:00 +0000, \"$lt\"=>2015-05-30 20:00:00 +0000}, :version=>1, \"tags.building\"=>{\"$ne\"=>nil}}\n",
      "Query complete for: {:created_at=>{\"$gte\"=>2015-05-30 20:00:00 +0000, \"$lt\"=>2015-05-31 00:00:00 +0000}, :version=>1, \"tags.building\"=>{\"$ne\"=>nil}}\n"
     ]
    },
    {
     "ename": "LocalJumpError",
     "evalue": "unexpected return",
     "output_type": "error",
     "traceback": [
      "\u001b[31mLocalJumpError\u001b[0m: unexpected return",
      "\u001b[37m(pry):34:in `block in <main>'\u001b[0m",
      "\u001b[37m(pry):26:in `collect'\u001b[0m",
      "\u001b[37m(pry):26:in `<main>'\u001b[0m",
      "\u001b[37m/usr/local/lib/ruby/gems/2.1.0/gems/pry-0.10.3/lib/pry/pry_instance.rb:355:in `eval'\u001b[0m",
      "\u001b[37m/usr/local/lib/ruby/gems/2.1.0/gems/pry-0.10.3/lib/pry/pry_instance.rb:355:in `evaluate_ruby'\u001b[0m",
      "\u001b[37m/usr/local/lib/ruby/gems/2.1.0/gems/pry-0.10.3/lib/pry/pry_instance.rb:323:in `handle_line'\u001b[0m",
      "\u001b[37m/usr/local/lib/ruby/gems/2.1.0/gems/pry-0.10.3/lib/pry/pry_instance.rb:243:in `block (2 levels) in eval'\u001b[0m",
      "\u001b[37m/usr/local/lib/ruby/gems/2.1.0/gems/pry-0.10.3/lib/pry/pry_instance.rb:242:in `catch'\u001b[0m",
      "\u001b[37m/usr/local/lib/ruby/gems/2.1.0/gems/pry-0.10.3/lib/pry/pry_instance.rb:242:in `block in eval'\u001b[0m",
      "\u001b[37m/usr/local/lib/ruby/gems/2.1.0/gems/pry-0.10.3/lib/pry/pry_instance.rb:241:in `catch'\u001b[0m",
      "\u001b[37m/usr/local/lib/ruby/gems/2.1.0/gems/pry-0.10.3/lib/pry/pry_instance.rb:241:in `eval'\u001b[0m",
      "\u001b[37m/usr/local/lib/ruby/gems/2.1.0/gems/iruby-0.2.8/lib/iruby/backend.rb:65:in `eval'\u001b[0m",
      "\u001b[37m/usr/local/lib/ruby/gems/2.1.0/gems/iruby-0.2.8/lib/iruby/backend.rb:12:in `eval'\u001b[0m",
      "\u001b[37m/usr/local/lib/ruby/gems/2.1.0/gems/iruby-0.2.8/lib/iruby/kernel.rb:87:in `execute_request'\u001b[0m",
      "\u001b[37m/usr/local/lib/ruby/gems/2.1.0/gems/iruby-0.2.8/lib/iruby/kernel.rb:47:in `dispatch'\u001b[0m",
      "\u001b[37m/usr/local/lib/ruby/gems/2.1.0/gems/iruby-0.2.8/lib/iruby/kernel.rb:37:in `run'\u001b[0m",
      "\u001b[37m/usr/local/lib/ruby/gems/2.1.0/gems/iruby-0.2.8/lib/iruby/command.rb:70:in `run_kernel'\u001b[0m",
      "\u001b[37m/usr/local/lib/ruby/gems/2.1.0/gems/iruby-0.2.8/lib/iruby/command.rb:34:in `run'\u001b[0m",
      "\u001b[37m/usr/local/lib/ruby/gems/2.1.0/gems/iruby-0.2.8/bin/iruby:5:in `<top (required)>'\u001b[0m",
      "\u001b[37m/usr/local/bin/iruby:22:in `load'\u001b[0m",
      "\u001b[37m/usr/local/bin/iruby:22:in `<main>'\u001b[0m"
     ]
    }
   ],
   "source": [
    "# 1. Get the buildings grouped by 4 hours:\n",
    "buildings_per_4_hours = aw.ways_x_hour(step: 4, constraints: {version: 1, 'tags.building' => {'$ne' => nil}}); nil\n",
    "\n",
    "# 2. Sort the buildings.\n",
    "building_counts_per_4_hours = buildings_per_4_hours.collect{ |bucket| \n",
    "  by_users = bucket[:objects].group_by{|w| w.user }\n",
    "  { \n",
    "    t: bucket[:start_date],\n",
    "    c: bucket[:objects].size,\n",
    "    u_count: by_users.size,\n",
    "    per_user_count: by_users.collect{|k,v| {k: v.size}}\n",
    "  }\n",
    "}\n",
    "\n",
    "# 3. Write the file?\n",
    "File.write('data/new_buildings.json', building_counts_per_4_hours.to_json)"
   ]
  },
  {
   "cell_type": "code",
   "execution_count": 5,
   "metadata": {
    "collapsed": false
   },
   "outputs": [],
   "source": [
    "building_counts_per_4_hours = buildings_per_4_hours.collect{ |bucket| \n",
    "  by_users = bucket[:objects].group_by{|w| w.user }\n",
    "  { \n",
    "    t: bucket[:start_date],\n",
    "    c: bucket[:objects].size,\n",
    "    u_count: by_users.size,\n",
    "    per_user_count: by_users.collect{|k,v| {k => v.size}}\n",
    "  }\n",
    "}; nil;"
   ]
  },
  {
   "cell_type": "code",
   "execution_count": 7,
   "metadata": {
    "collapsed": false
   },
   "outputs": [
    {
     "name": "stdout",
     "output_type": "stream",
     "text": [
      "{:t=>2015-04-25 00:00:00 +0000, :c=>0, :u_count=>0, :per_user_count=>[]}\n",
      "{:t=>2015-04-25 04:00:00 +0000, :c=>4, :u_count=>1, :per_user_count=>[{\"akaldas\"=>4}]}\n",
      "{:t=>2015-04-25 08:00:00 +0000, :c=>396, :u_count=>3, :per_user_count=>[{\"sashazykov\"=>178}, {\"aarondennis\"=>201}, {\"Latze\"=>17}]}\n",
      "{:t=>2015-04-25 12:00:00 +0000, :c=>1426, :u_count=>21, :per_user_count=>[{\"Helmchen42\"=>18}, {\"harrierco\"=>3}, {\"Geofreund1\"=>282}, {\"k_os\"=>18}, {\"jay-ar\"=>2}, {\"hebolz\"=>43}, {\"rrbaker\"=>21}, {\"mapmeld\"=>14}, {\"MapQuestSolutions LLC\"=>210}, {\"Pierre Mirlesse\"=>2}, {\"AndrewBuck\"=>2}, {\"Jonlode\"=>132}, {\"kou_kita\"=>319}, {\"emirhartato\"=>145}, {\"dkunce\"=>32}, {\"Eysler\"=>29}, {\"Imakemapz\"=>38}, {\"Tiffany Holland\"=>60}, {\"yvecai\"=>1}, {\"higa4\"=>10}, {\"u_kubota\"=>45}]}\n",
      "{:t=>2015-04-25 16:00:00 +0000, :c=>2358, :u_count=>40, :per_user_count=>[{\"Eysler\"=>3}, {\"Geofreund1\"=>812}, {\"Akimasa\"=>9}, {\"Imakemapz\"=>108}, {\"Tiffany Holland\"=>216}, {\"clkao\"=>2}, {\"lann\"=>2}, {\"WillieShu\"=>71}, {\"anders_ar\"=>36}, {\"u_kubota\"=>307}, {\"AndrewBuck\"=>97}, {\"Pierre Mirlesse\"=>2}, {\"oiva\"=>19}, {\"Andrew Rumbach\"=>27}, {\"gogeo\"=>130}, {\"filipesantanalopes\"=>74}, {\"Helmchen42\"=>9}, {\"redrace\"=>1}, {\"cleverceo\"=>20}, {\"FTA\"=>42}, {\"Summit Suen\"=>9}, {\"CFearn\"=>47}, {\"hebolz\"=>32}, {\"tosseto\"=>5}, {\"sabas88\"=>73}, {\"seichter\"=>12}, {\"yogi_ks\"=>76}, {\"testtesting\"=>6}, {\"ShashankS\"=>21}, {\"Martien Sch\"=>4}, {\"thirteen\"=>1}, {\"Peiling\"=>12}, {\"NittanyCarto\"=>5}, {\"Kayakate\"=>4}, {\"Nizil\"=>9}, {\"k_os\"=>10}, {\"troisliu\"=>11}, {\"Alan\"=>13}, {\"peterleth\"=>11}, {\"ngt\"=>10}]}\n"
     ]
    }
   ],
   "source": [
    "building_counts_per_4_hours[0..4].each do |entry|\n",
    "  puts entry\n",
    "end\n",
    "nil"
   ]
  },
  {
   "cell_type": "code",
   "execution_count": 10,
   "metadata": {
    "collapsed": false
   },
   "outputs": [
    {
     "data": {
      "text/plain": [
       "290403"
      ]
     },
     "execution_count": 10,
     "metadata": {},
     "output_type": "execute_result"
    }
   ],
   "source": [
    "require 'json'\n",
    "File.write('json/new_buildings.json', building_counts_per_4_hours.to_json)"
   ]
  },
  {
   "cell_type": "code",
   "execution_count": 13,
   "metadata": {
    "collapsed": false
   },
   "outputs": [
    {
     "name": "stdout",
     "output_type": "stream",
     "text": [
      "There were 1408562 new buildings added\n"
     ]
    }
   ],
   "source": [
    "puts \"There were #{building_counts_per_4_hours.collect{|b| b[:c]}.inject(:+)} new buildings added\""
   ]
  },
  {
   "cell_type": "code",
   "execution_count": 21,
   "metadata": {
    "collapsed": false
   },
   "outputs": [
    {
     "data": {
      "text/plain": [
       "5494"
      ]
     },
     "execution_count": 21,
     "metadata": {},
     "output_type": "execute_result"
    }
   ],
   "source": [
    "uniq_users = building_counts_per_4_hours.collect{|b| b[:per_user_count].flatten.collect{|x| x.keys}}.flatten.uniq\n",
    "uniq_users.size"
   ]
  },
  {
   "cell_type": "code",
   "execution_count": 27,
   "metadata": {
    "collapsed": true
   },
   "outputs": [],
   "source": [
    "buildings_per_user = building_counts_per_4_hours.collect{|b| b[:per_user_count].flatten.group_by{|x| x.keys}}"
   ]
  },
  {
   "cell_type": "code",
   "execution_count": null,
   "metadata": {
    "collapsed": true
   },
   "outputs": [],
   "source": []
  },
  {
   "cell_type": "code",
   "execution_count": 29,
   "metadata": {
    "collapsed": true
   },
   "outputs": [],
   "source": []
  },
  {
   "cell_type": "code",
   "execution_count": null,
   "metadata": {
    "collapsed": true
   },
   "outputs": [],
   "source": []
  }
 ],
 "metadata": {
  "kernelspec": {
   "display_name": "Ruby 2.1.5",
   "language": "ruby",
   "name": "ruby"
  },
  "language_info": {
   "file_extension": ".rb",
   "mimetype": "application/x-ruby",
   "name": "ruby",
   "version": "2.1.5"
  }
 },
 "nbformat": 4,
 "nbformat_minor": 0
}
