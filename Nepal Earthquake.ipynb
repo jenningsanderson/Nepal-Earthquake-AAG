{
 "cells": [
  {
   "cell_type": "markdown",
   "metadata": {
    "slideshow": {
     "slide_type": "slide"
    }
   },
   "source": [
    "Nepal Earthquake OSM Data Exploration\n",
    "====================================="
   ]
  },
  {
   "cell_type": "code",
   "execution_count": 2,
   "metadata": {
    "collapsed": false,
    "slideshow": {
     "slide_type": "slide"
    }
   },
   "outputs": [
    {
     "name": "stdout",
     "output_type": "stream",
     "text": [
      "Successfully initialized Analysis Window: Nepal Earthquake\n",
      "\n"
     ]
    },
    {
     "data": {
      "text/plain": [
       "#<AnalysisWindow:0x007f3da7987ab0 @bounding_box=#<BoundingBox:0x007f3da798ce20 @bbox_array=[\"80.0134\", \"26.3033\", \"88.2202\", \"30.5149\"], @bottom_left=[80.0134, 26.3033], @top_right=[88.2202, 30.5149], @active=false>, @time_frame=#<TimeFrame:0x007f3da798f4e0 @start_date=2015-04-25 00:00:00 +0000, @end_date=2015-05-31 00:00:00 +0000, @active=true>, @max_area=1000000000000, @min_area=1, @title=\"Nepal Earthquake\", @changeset_tags=nil>"
      ]
     },
     "execution_count": 2,
     "metadata": {},
     "output_type": "execute_result"
    }
   ],
   "source": [
    "require '/opt/epic-osm/epic-osm.rb'\n",
    "analysis_window = './nepal-earthquake.yml'\n",
    "o  = EpicOSM.new(analysis_window: analysis_window)\n",
    "aw = o.analysis_window"
   ]
  },
  {
   "cell_type": "markdown",
   "metadata": {},
   "source": [
    "## Visualize some changesets information!"
   ]
  },
  {
   "cell_type": "code",
   "execution_count": 3,
   "metadata": {
    "collapsed": false,
    "scrolled": true
   },
   "outputs": [
    {
     "name": "stdout",
     "output_type": "stream",
     "text": [
      "{:unit=>:hour, :step=>4, :constraints=>{}, :collection=>\"changesets\", :type=>DomainObject::Changeset}\n",
      "Query complete for: {:created_at=>{\"$gte\"=>2015-04-25 00:00:00 +0000, \"$lt\"=>2015-04-25 04:00:00 +0000}}\n",
      "Query complete for: {:created_at=>{\"$gte\"=>2015-04-25 04:00:00 +0000, \"$lt\"=>2015-04-25 08:00:00 +0000}}\n",
      "Query complete for: {:created_at=>{\"$gte\"=>2015-04-25 08:00:00 +0000, \"$lt\"=>2015-04-25 12:00:00 +0000}}\n",
      "Query complete for: {:created_at=>{\"$gte\"=>2015-04-25 12:00:00 +0000, \"$lt\"=>2015-04-25 16:00:00 +0000}}\n",
      "Query complete for: {:created_at=>{\"$gte\"=>2015-04-25 16:00:00 +0000, \"$lt\"=>2015-04-25 20:00:00 +0000}}\n",
      "Query complete for: {:created_at=>{\"$gte\"=>2015-04-25 20:00:00 +0000, \"$lt\"=>2015-04-26 00:00:00 +0000}}\n",
      "Query complete for: {:created_at=>{\"$gte\"=>2015-04-26 00:00:00 +0000, \"$lt\"=>2015-04-26 04:00:00 +0000}}\n",
      "Query complete for: {:created_at=>{\"$gte\"=>2015-04-26 04:00:00 +0000, \"$lt\"=>2015-04-26 08:00:00 +0000}}\n",
      "Query complete for: {:created_at=>{\"$gte\"=>2015-04-26 08:00:00 +0000, \"$lt\"=>2015-04-26 12:00:00 +0000}}\n",
      "Query complete for: {:created_at=>{\"$gte\"=>2015-04-26 12:00:00 +0000, \"$lt\"=>2015-04-26 16:00:00 +0000}}\n",
      "Query complete for: {:created_at=>{\"$gte\"=>2015-04-26 16:00:00 +0000, \"$lt\"=>2015-04-26 20:00:00 +0000}}\n",
      "Query complete for: {:created_at=>{\"$gte\"=>2015-04-26 20:00:00 +0000, \"$lt\"=>2015-04-27 00:00:00 +0000}}\n",
      "Query complete for: {:created_at=>{\"$gte\"=>2015-04-27 00:00:00 +0000, \"$lt\"=>2015-04-27 04:00:00 +0000}}\n",
      "Query complete for: {:created_at=>{\"$gte\"=>2015-04-27 04:00:00 +0000, \"$lt\"=>2015-04-27 08:00:00 +0000}}\n",
      "Query complete for: {:created_at=>{\"$gte\"=>2015-04-27 08:00:00 +0000, \"$lt\"=>2015-04-27 12:00:00 +0000}}\n",
      "Query complete for: {:created_at=>{\"$gte\"=>2015-04-27 12:00:00 +0000, \"$lt\"=>2015-04-27 16:00:00 +0000}}\n",
      "Query complete for: {:created_at=>{\"$gte\"=>2015-04-27 16:00:00 +0000, \"$lt\"=>2015-04-27 20:00:00 +0000}}\n",
      "Query complete for: {:created_at=>{\"$gte\"=>2015-04-27 20:00:00 +0000, \"$lt\"=>2015-04-28 00:00:00 +0000}}\n",
      "Query complete for: {:created_at=>{\"$gte\"=>2015-04-28 00:00:00 +0000, \"$lt\"=>2015-04-28 04:00:00 +0000}}\n",
      "Query complete for: {:created_at=>{\"$gte\"=>2015-04-28 04:00:00 +0000, \"$lt\"=>2015-04-28 08:00:00 +0000}}\n",
      "Query complete for: {:created_at=>{\"$gte\"=>2015-04-28 08:00:00 +0000, \"$lt\"=>2015-04-28 12:00:00 +0000}}\n",
      "Query complete for: {:created_at=>{\"$gte\"=>2015-04-28 12:00:00 +0000, \"$lt\"=>2015-04-28 16:00:00 +0000}}\n",
      "Query complete for: {:created_at=>{\"$gte\"=>2015-04-28 16:00:00 +0000, \"$lt\"=>2015-04-28 20:00:00 +0000}}\n",
      "Query complete for: {:created_at=>{\"$gte\"=>2015-04-28 20:00:00 +0000, \"$lt\"=>2015-04-29 00:00:00 +0000}}\n",
      "Query complete for: {:created_at=>{\"$gte\"=>2015-04-29 00:00:00 +0000, \"$lt\"=>2015-04-29 04:00:00 +0000}}\n",
      "Query complete for: {:created_at=>{\"$gte\"=>2015-04-29 04:00:00 +0000, \"$lt\"=>2015-04-29 08:00:00 +0000}}\n",
      "Query complete for: {:created_at=>{\"$gte\"=>2015-04-29 08:00:00 +0000, \"$lt\"=>2015-04-29 12:00:00 +0000}}\n",
      "Query complete for: {:created_at=>{\"$gte\"=>2015-04-29 12:00:00 +0000, \"$lt\"=>2015-04-29 16:00:00 +0000}}\n",
      "Query complete for: {:created_at=>{\"$gte\"=>2015-04-29 16:00:00 +0000, \"$lt\"=>2015-04-29 20:00:00 +0000}}\n",
      "Query complete for: {:created_at=>{\"$gte\"=>2015-04-29 20:00:00 +0000, \"$lt\"=>2015-04-30 00:00:00 +0000}}\n",
      "Query complete for: {:created_at=>{\"$gte\"=>2015-04-30 00:00:00 +0000, \"$lt\"=>2015-04-30 04:00:00 +0000}}\n",
      "Query complete for: {:created_at=>{\"$gte\"=>2015-04-30 04:00:00 +0000, \"$lt\"=>2015-04-30 08:00:00 +0000}}\n",
      "Query complete for: {:created_at=>{\"$gte\"=>2015-04-30 08:00:00 +0000, \"$lt\"=>2015-04-30 12:00:00 +0000}}\n",
      "Query complete for: {:created_at=>{\"$gte\"=>2015-04-30 12:00:00 +0000, \"$lt\"=>2015-04-30 16:00:00 +0000}}\n",
      "Query complete for: {:created_at=>{\"$gte\"=>2015-04-30 16:00:00 +0000, \"$lt\"=>2015-04-30 20:00:00 +0000}}\n",
      "Query complete for: {:created_at=>{\"$gte\"=>2015-04-30 20:00:00 +0000, \"$lt\"=>2015-05-01 00:00:00 +0000}}\n",
      "Query complete for: {:created_at=>{\"$gte\"=>2015-05-01 00:00:00 +0000, \"$lt\"=>2015-05-01 04:00:00 +0000}}\n",
      "Query complete for: {:created_at=>{\"$gte\"=>2015-05-01 04:00:00 +0000, \"$lt\"=>2015-05-01 08:00:00 +0000}}\n",
      "Query complete for: {:created_at=>{\"$gte\"=>2015-05-01 08:00:00 +0000, \"$lt\"=>2015-05-01 12:00:00 +0000}}\n",
      "Query complete for: {:created_at=>{\"$gte\"=>2015-05-01 12:00:00 +0000, \"$lt\"=>2015-05-01 16:00:00 +0000}}\n",
      "Query complete for: {:created_at=>{\"$gte\"=>2015-05-01 16:00:00 +0000, \"$lt\"=>2015-05-01 20:00:00 +0000}}\n",
      "Query complete for: {:created_at=>{\"$gte\"=>2015-05-01 20:00:00 +0000, \"$lt\"=>2015-05-02 00:00:00 +0000}}\n",
      "Query complete for: {:created_at=>{\"$gte\"=>2015-05-02 00:00:00 +0000, \"$lt\"=>2015-05-02 04:00:00 +0000}}\n",
      "Query complete for: {:created_at=>{\"$gte\"=>2015-05-02 04:00:00 +0000, \"$lt\"=>2015-05-02 08:00:00 +0000}}\n",
      "Query complete for: {:created_at=>{\"$gte\"=>2015-05-02 08:00:00 +0000, \"$lt\"=>2015-05-02 12:00:00 +0000}}\n",
      "Query complete for: {:created_at=>{\"$gte\"=>2015-05-02 12:00:00 +0000, \"$lt\"=>2015-05-02 16:00:00 +0000}}\n",
      "Query complete for: {:created_at=>{\"$gte\"=>2015-05-02 16:00:00 +0000, \"$lt\"=>2015-05-02 20:00:00 +0000}}\n",
      "Query complete for: {:created_at=>{\"$gte\"=>2015-05-02 20:00:00 +0000, \"$lt\"=>2015-05-03 00:00:00 +0000}}\n",
      "Query complete for: {:created_at=>{\"$gte\"=>2015-05-03 00:00:00 +0000, \"$lt\"=>2015-05-03 04:00:00 +0000}}\n",
      "Query complete for: {:created_at=>{\"$gte\"=>2015-05-03 04:00:00 +0000, \"$lt\"=>2015-05-03 08:00:00 +0000}}\n",
      "Query complete for: {:created_at=>{\"$gte\"=>2015-05-03 08:00:00 +0000, \"$lt\"=>2015-05-03 12:00:00 +0000}}\n",
      "Query complete for: {:created_at=>{\"$gte\"=>2015-05-03 12:00:00 +0000, \"$lt\"=>2015-05-03 16:00:00 +0000}}\n",
      "Query complete for: {:created_at=>{\"$gte\"=>2015-05-03 16:00:00 +0000, \"$lt\"=>2015-05-03 20:00:00 +0000}}\n",
      "Query complete for: {:created_at=>{\"$gte\"=>2015-05-03 20:00:00 +0000, \"$lt\"=>2015-05-04 00:00:00 +0000}}\n",
      "Query complete for: {:created_at=>{\"$gte\"=>2015-05-04 00:00:00 +0000, \"$lt\"=>2015-05-04 04:00:00 +0000}}\n",
      "Query complete for: {:created_at=>{\"$gte\"=>2015-05-04 04:00:00 +0000, \"$lt\"=>2015-05-04 08:00:00 +0000}}\n",
      "Query complete for: {:created_at=>{\"$gte\"=>2015-05-04 08:00:00 +0000, \"$lt\"=>2015-05-04 12:00:00 +0000}}\n",
      "Query complete for: {:created_at=>{\"$gte\"=>2015-05-04 12:00:00 +0000, \"$lt\"=>2015-05-04 16:00:00 +0000}}\n",
      "Query complete for: {:created_at=>{\"$gte\"=>2015-05-04 16:00:00 +0000, \"$lt\"=>2015-05-04 20:00:00 +0000}}\n",
      "Query complete for: {:created_at=>{\"$gte\"=>2015-05-04 20:00:00 +0000, \"$lt\"=>2015-05-05 00:00:00 +0000}}\n",
      "Query complete for: {:created_at=>{\"$gte\"=>2015-05-05 00:00:00 +0000, \"$lt\"=>2015-05-05 04:00:00 +0000}}\n",
      "Query complete for: {:created_at=>{\"$gte\"=>2015-05-05 04:00:00 +0000, \"$lt\"=>2015-05-05 08:00:00 +0000}}\n",
      "Query complete for: {:created_at=>{\"$gte\"=>2015-05-05 08:00:00 +0000, \"$lt\"=>2015-05-05 12:00:00 +0000}}\n",
      "Query complete for: {:created_at=>{\"$gte\"=>2015-05-05 12:00:00 +0000, \"$lt\"=>2015-05-05 16:00:00 +0000}}\n",
      "Query complete for: {:created_at=>{\"$gte\"=>2015-05-05 16:00:00 +0000, \"$lt\"=>2015-05-05 20:00:00 +0000}}\n",
      "Query complete for: {:created_at=>{\"$gte\"=>2015-05-05 20:00:00 +0000, \"$lt\"=>2015-05-06 00:00:00 +0000}}\n",
      "Query complete for: {:created_at=>{\"$gte\"=>2015-05-06 00:00:00 +0000, \"$lt\"=>2015-05-06 04:00:00 +0000}}\n",
      "Query complete for: {:created_at=>{\"$gte\"=>2015-05-06 04:00:00 +0000, \"$lt\"=>2015-05-06 08:00:00 +0000}}\n",
      "Query complete for: {:created_at=>{\"$gte\"=>2015-05-06 08:00:00 +0000, \"$lt\"=>2015-05-06 12:00:00 +0000}}\n",
      "Query complete for: {:created_at=>{\"$gte\"=>2015-05-06 12:00:00 +0000, \"$lt\"=>2015-05-06 16:00:00 +0000}}\n",
      "Query complete for: {:created_at=>{\"$gte\"=>2015-05-06 16:00:00 +0000, \"$lt\"=>2015-05-06 20:00:00 +0000}}\n",
      "Query complete for: {:created_at=>{\"$gte\"=>2015-05-06 20:00:00 +0000, \"$lt\"=>2015-05-07 00:00:00 +0000}}\n",
      "Query complete for: {:created_at=>{\"$gte\"=>2015-05-07 00:00:00 +0000, \"$lt\"=>2015-05-07 04:00:00 +0000}}\n",
      "Query complete for: {:created_at=>{\"$gte\"=>2015-05-07 04:00:00 +0000, \"$lt\"=>2015-05-07 08:00:00 +0000}}\n",
      "Query complete for: {:created_at=>{\"$gte\"=>2015-05-07 08:00:00 +0000, \"$lt\"=>2015-05-07 12:00:00 +0000}}\n",
      "Query complete for: {:created_at=>{\"$gte\"=>2015-05-07 12:00:00 +0000, \"$lt\"=>2015-05-07 16:00:00 +0000}}\n",
      "Query complete for: {:created_at=>{\"$gte\"=>2015-05-07 16:00:00 +0000, \"$lt\"=>2015-05-07 20:00:00 +0000}}\n",
      "Query complete for: {:created_at=>{\"$gte\"=>2015-05-07 20:00:00 +0000, \"$lt\"=>2015-05-08 00:00:00 +0000}}\n",
      "Query complete for: {:created_at=>{\"$gte\"=>2015-05-08 00:00:00 +0000, \"$lt\"=>2015-05-08 04:00:00 +0000}}\n",
      "Query complete for: {:created_at=>{\"$gte\"=>2015-05-08 04:00:00 +0000, \"$lt\"=>2015-05-08 08:00:00 +0000}}\n",
      "Query complete for: {:created_at=>{\"$gte\"=>2015-05-08 08:00:00 +0000, \"$lt\"=>2015-05-08 12:00:00 +0000}}\n",
      "Query complete for: {:created_at=>{\"$gte\"=>2015-05-08 12:00:00 +0000, \"$lt\"=>2015-05-08 16:00:00 +0000}}\n",
      "Query complete for: {:created_at=>{\"$gte\"=>2015-05-08 16:00:00 +0000, \"$lt\"=>2015-05-08 20:00:00 +0000}}\n",
      "Query complete for: {:created_at=>{\"$gte\"=>2015-05-08 20:00:00 +0000, \"$lt\"=>2015-05-09 00:00:00 +0000}}\n",
      "Query complete for: {:created_at=>{\"$gte\"=>2015-05-09 00:00:00 +0000, \"$lt\"=>2015-05-09 04:00:00 +0000}}\n",
      "Query complete for: {:created_at=>{\"$gte\"=>2015-05-09 04:00:00 +0000, \"$lt\"=>2015-05-09 08:00:00 +0000}}\n",
      "Query complete for: {:created_at=>{\"$gte\"=>2015-05-09 08:00:00 +0000, \"$lt\"=>2015-05-09 12:00:00 +0000}}\n",
      "Query complete for: {:created_at=>{\"$gte\"=>2015-05-09 12:00:00 +0000, \"$lt\"=>2015-05-09 16:00:00 +0000}}\n",
      "Query complete for: {:created_at=>{\"$gte\"=>2015-05-09 16:00:00 +0000, \"$lt\"=>2015-05-09 20:00:00 +0000}}\n",
      "Query complete for: {:created_at=>{\"$gte\"=>2015-05-09 20:00:00 +0000, \"$lt\"=>2015-05-10 00:00:00 +0000}}\n",
      "Query complete for: {:created_at=>{\"$gte\"=>2015-05-10 00:00:00 +0000, \"$lt\"=>2015-05-10 04:00:00 +0000}}\n",
      "Query complete for: {:created_at=>{\"$gte\"=>2015-05-10 04:00:00 +0000, \"$lt\"=>2015-05-10 08:00:00 +0000}}\n",
      "Query complete for: {:created_at=>{\"$gte\"=>2015-05-10 08:00:00 +0000, \"$lt\"=>2015-05-10 12:00:00 +0000}}\n",
      "Query complete for: {:created_at=>{\"$gte\"=>2015-05-10 12:00:00 +0000, \"$lt\"=>2015-05-10 16:00:00 +0000}}\n",
      "Query complete for: {:created_at=>{\"$gte\"=>2015-05-10 16:00:00 +0000, \"$lt\"=>2015-05-10 20:00:00 +0000}}\n",
      "Query complete for: {:created_at=>{\"$gte\"=>2015-05-10 20:00:00 +0000, \"$lt\"=>2015-05-11 00:00:00 +0000}}\n",
      "Query complete for: {:created_at=>{\"$gte\"=>2015-05-11 00:00:00 +0000, \"$lt\"=>2015-05-11 04:00:00 +0000}}\n",
      "Query complete for: {:created_at=>{\"$gte\"=>2015-05-11 04:00:00 +0000, \"$lt\"=>2015-05-11 08:00:00 +0000}}\n",
      "Query complete for: {:created_at=>{\"$gte\"=>2015-05-11 08:00:00 +0000, \"$lt\"=>2015-05-11 12:00:00 +0000}}\n",
      "Query complete for: {:created_at=>{\"$gte\"=>2015-05-11 12:00:00 +0000, \"$lt\"=>2015-05-11 16:00:00 +0000}}\n",
      "Query complete for: {:created_at=>{\"$gte\"=>2015-05-11 16:00:00 +0000, \"$lt\"=>2015-05-11 20:00:00 +0000}}\n",
      "Query complete for: {:created_at=>{\"$gte\"=>2015-05-11 20:00:00 +0000, \"$lt\"=>2015-05-12 00:00:00 +0000}}\n",
      "Query complete for: {:created_at=>{\"$gte\"=>2015-05-12 00:00:00 +0000, \"$lt\"=>2015-05-12 04:00:00 +0000}}\n",
      "Query complete for: {:created_at=>{\"$gte\"=>2015-05-12 04:00:00 +0000, \"$lt\"=>2015-05-12 08:00:00 +0000}}\n",
      "Query complete for: {:created_at=>{\"$gte\"=>2015-05-12 08:00:00 +0000, \"$lt\"=>2015-05-12 12:00:00 +0000}}\n",
      "Query complete for: {:created_at=>{\"$gte\"=>2015-05-12 12:00:00 +0000, \"$lt\"=>2015-05-12 16:00:00 +0000}}\n",
      "Query complete for: {:created_at=>{\"$gte\"=>2015-05-12 16:00:00 +0000, \"$lt\"=>2015-05-12 20:00:00 +0000}}\n",
      "Query complete for: {:created_at=>{\"$gte\"=>2015-05-12 20:00:00 +0000, \"$lt\"=>2015-05-13 00:00:00 +0000}}\n",
      "Query complete for: {:created_at=>{\"$gte\"=>2015-05-13 00:00:00 +0000, \"$lt\"=>2015-05-13 04:00:00 +0000}}\n",
      "Query complete for: {:created_at=>{\"$gte\"=>2015-05-13 04:00:00 +0000, \"$lt\"=>2015-05-13 08:00:00 +0000}}\n",
      "Query complete for: {:created_at=>{\"$gte\"=>2015-05-13 08:00:00 +0000, \"$lt\"=>2015-05-13 12:00:00 +0000}}\n",
      "Query complete for: {:created_at=>{\"$gte\"=>2015-05-13 12:00:00 +0000, \"$lt\"=>2015-05-13 16:00:00 +0000}}\n",
      "Query complete for: {:created_at=>{\"$gte\"=>2015-05-13 16:00:00 +0000, \"$lt\"=>2015-05-13 20:00:00 +0000}}\n",
      "Query complete for: {:created_at=>{\"$gte\"=>2015-05-13 20:00:00 +0000, \"$lt\"=>2015-05-14 00:00:00 +0000}}\n",
      "Query complete for: {:created_at=>{\"$gte\"=>2015-05-14 00:00:00 +0000, \"$lt\"=>2015-05-14 04:00:00 +0000}}\n",
      "Query complete for: {:created_at=>{\"$gte\"=>2015-05-14 04:00:00 +0000, \"$lt\"=>2015-05-14 08:00:00 +0000}}\n",
      "Query complete for: {:created_at=>{\"$gte\"=>2015-05-14 08:00:00 +0000, \"$lt\"=>2015-05-14 12:00:00 +0000}}\n",
      "Query complete for: {:created_at=>{\"$gte\"=>2015-05-14 12:00:00 +0000, \"$lt\"=>2015-05-14 16:00:00 +0000}}\n",
      "Query complete for: {:created_at=>{\"$gte\"=>2015-05-14 16:00:00 +0000, \"$lt\"=>2015-05-14 20:00:00 +0000}}\n",
      "Query complete for: {:created_at=>{\"$gte\"=>2015-05-14 20:00:00 +0000, \"$lt\"=>2015-05-15 00:00:00 +0000}}\n",
      "Query complete for: {:created_at=>{\"$gte\"=>2015-05-15 00:00:00 +0000, \"$lt\"=>2015-05-15 04:00:00 +0000}}\n",
      "Query complete for: {:created_at=>{\"$gte\"=>2015-05-15 04:00:00 +0000, \"$lt\"=>2015-05-15 08:00:00 +0000}}\n",
      "Query complete for: {:created_at=>{\"$gte\"=>2015-05-15 08:00:00 +0000, \"$lt\"=>2015-05-15 12:00:00 +0000}}\n",
      "Query complete for: {:created_at=>{\"$gte\"=>2015-05-15 12:00:00 +0000, \"$lt\"=>2015-05-15 16:00:00 +0000}}\n",
      "Query complete for: {:created_at=>{\"$gte\"=>2015-05-15 16:00:00 +0000, \"$lt\"=>2015-05-15 20:00:00 +0000}}\n",
      "Query complete for: {:created_at=>{\"$gte\"=>2015-05-15 20:00:00 +0000, \"$lt\"=>2015-05-16 00:00:00 +0000}}\n",
      "Query complete for: {:created_at=>{\"$gte\"=>2015-05-16 00:00:00 +0000, \"$lt\"=>2015-05-16 04:00:00 +0000}}\n",
      "Query complete for: {:created_at=>{\"$gte\"=>2015-05-16 04:00:00 +0000, \"$lt\"=>2015-05-16 08:00:00 +0000}}\n",
      "Query complete for: {:created_at=>{\"$gte\"=>2015-05-16 08:00:00 +0000, \"$lt\"=>2015-05-16 12:00:00 +0000}}\n",
      "Query complete for: {:created_at=>{\"$gte\"=>2015-05-16 12:00:00 +0000, \"$lt\"=>2015-05-16 16:00:00 +0000}}\n",
      "Query complete for: {:created_at=>{\"$gte\"=>2015-05-16 16:00:00 +0000, \"$lt\"=>2015-05-16 20:00:00 +0000}}\n",
      "Query complete for: {:created_at=>{\"$gte\"=>2015-05-16 20:00:00 +0000, \"$lt\"=>2015-05-17 00:00:00 +0000}}\n",
      "Query complete for: {:created_at=>{\"$gte\"=>2015-05-17 00:00:00 +0000, \"$lt\"=>2015-05-17 04:00:00 +0000}}\n",
      "Query complete for: {:created_at=>{\"$gte\"=>2015-05-17 04:00:00 +0000, \"$lt\"=>2015-05-17 08:00:00 +0000}}\n",
      "Query complete for: {:created_at=>{\"$gte\"=>2015-05-17 08:00:00 +0000, \"$lt\"=>2015-05-17 12:00:00 +0000}}\n",
      "Query complete for: {:created_at=>{\"$gte\"=>2015-05-17 12:00:00 +0000, \"$lt\"=>2015-05-17 16:00:00 +0000}}\n",
      "Query complete for: {:created_at=>{\"$gte\"=>2015-05-17 16:00:00 +0000, \"$lt\"=>2015-05-17 20:00:00 +0000}}\n",
      "Query complete for: {:created_at=>{\"$gte\"=>2015-05-17 20:00:00 +0000, \"$lt\"=>2015-05-18 00:00:00 +0000}}\n",
      "Query complete for: {:created_at=>{\"$gte\"=>2015-05-18 00:00:00 +0000, \"$lt\"=>2015-05-18 04:00:00 +0000}}\n",
      "Query complete for: {:created_at=>{\"$gte\"=>2015-05-18 04:00:00 +0000, \"$lt\"=>2015-05-18 08:00:00 +0000}}\n",
      "Query complete for: {:created_at=>{\"$gte\"=>2015-05-18 08:00:00 +0000, \"$lt\"=>2015-05-18 12:00:00 +0000}}\n",
      "Query complete for: {:created_at=>{\"$gte\"=>2015-05-18 12:00:00 +0000, \"$lt\"=>2015-05-18 16:00:00 +0000}}\n",
      "Query complete for: {:created_at=>{\"$gte\"=>2015-05-18 16:00:00 +0000, \"$lt\"=>2015-05-18 20:00:00 +0000}}\n",
      "Query complete for: {:created_at=>{\"$gte\"=>2015-05-18 20:00:00 +0000, \"$lt\"=>2015-05-19 00:00:00 +0000}}\n",
      "Query complete for: {:created_at=>{\"$gte\"=>2015-05-19 00:00:00 +0000, \"$lt\"=>2015-05-19 04:00:00 +0000}}\n",
      "Query complete for: {:created_at=>{\"$gte\"=>2015-05-19 04:00:00 +0000, \"$lt\"=>2015-05-19 08:00:00 +0000}}\n",
      "Query complete for: {:created_at=>{\"$gte\"=>2015-05-19 08:00:00 +0000, \"$lt\"=>2015-05-19 12:00:00 +0000}}\n",
      "Query complete for: {:created_at=>{\"$gte\"=>2015-05-19 12:00:00 +0000, \"$lt\"=>2015-05-19 16:00:00 +0000}}\n",
      "Query complete for: {:created_at=>{\"$gte\"=>2015-05-19 16:00:00 +0000, \"$lt\"=>2015-05-19 20:00:00 +0000}}\n",
      "Query complete for: {:created_at=>{\"$gte\"=>2015-05-19 20:00:00 +0000, \"$lt\"=>2015-05-20 00:00:00 +0000}}\n",
      "Query complete for: {:created_at=>{\"$gte\"=>2015-05-20 00:00:00 +0000, \"$lt\"=>2015-05-20 04:00:00 +0000}}\n",
      "Query complete for: {:created_at=>{\"$gte\"=>2015-05-20 04:00:00 +0000, \"$lt\"=>2015-05-20 08:00:00 +0000}}\n",
      "Query complete for: {:created_at=>{\"$gte\"=>2015-05-20 08:00:00 +0000, \"$lt\"=>2015-05-20 12:00:00 +0000}}\n",
      "Query complete for: {:created_at=>{\"$gte\"=>2015-05-20 12:00:00 +0000, \"$lt\"=>2015-05-20 16:00:00 +0000}}\n",
      "Query complete for: {:created_at=>{\"$gte\"=>2015-05-20 16:00:00 +0000, \"$lt\"=>2015-05-20 20:00:00 +0000}}\n",
      "Query complete for: {:created_at=>{\"$gte\"=>2015-05-20 20:00:00 +0000, \"$lt\"=>2015-05-21 00:00:00 +0000}}\n",
      "Query complete for: {:created_at=>{\"$gte\"=>2015-05-21 00:00:00 +0000, \"$lt\"=>2015-05-21 04:00:00 +0000}}\n",
      "Query complete for: {:created_at=>{\"$gte\"=>2015-05-21 04:00:00 +0000, \"$lt\"=>2015-05-21 08:00:00 +0000}}\n",
      "Query complete for: {:created_at=>{\"$gte\"=>2015-05-21 08:00:00 +0000, \"$lt\"=>2015-05-21 12:00:00 +0000}}\n",
      "Query complete for: {:created_at=>{\"$gte\"=>2015-05-21 12:00:00 +0000, \"$lt\"=>2015-05-21 16:00:00 +0000}}\n",
      "Query complete for: {:created_at=>{\"$gte\"=>2015-05-21 16:00:00 +0000, \"$lt\"=>2015-05-21 20:00:00 +0000}}\n",
      "Query complete for: {:created_at=>{\"$gte\"=>2015-05-21 20:00:00 +0000, \"$lt\"=>2015-05-22 00:00:00 +0000}}\n",
      "Query complete for: {:created_at=>{\"$gte\"=>2015-05-22 00:00:00 +0000, \"$lt\"=>2015-05-22 04:00:00 +0000}}\n",
      "Query complete for: {:created_at=>{\"$gte\"=>2015-05-22 04:00:00 +0000, \"$lt\"=>2015-05-22 08:00:00 +0000}}\n",
      "Query complete for: {:created_at=>{\"$gte\"=>2015-05-22 08:00:00 +0000, \"$lt\"=>2015-05-22 12:00:00 +0000}}\n",
      "Query complete for: {:created_at=>{\"$gte\"=>2015-05-22 12:00:00 +0000, \"$lt\"=>2015-05-22 16:00:00 +0000}}\n",
      "Query complete for: {:created_at=>{\"$gte\"=>2015-05-22 16:00:00 +0000, \"$lt\"=>2015-05-22 20:00:00 +0000}}\n",
      "Query complete for: {:created_at=>{\"$gte\"=>2015-05-22 20:00:00 +0000, \"$lt\"=>2015-05-23 00:00:00 +0000}}\n",
      "Query complete for: {:created_at=>{\"$gte\"=>2015-05-23 00:00:00 +0000, \"$lt\"=>2015-05-23 04:00:00 +0000}}\n",
      "Query complete for: {:created_at=>{\"$gte\"=>2015-05-23 04:00:00 +0000, \"$lt\"=>2015-05-23 08:00:00 +0000}}\n",
      "Query complete for: {:created_at=>{\"$gte\"=>2015-05-23 08:00:00 +0000, \"$lt\"=>2015-05-23 12:00:00 +0000}}\n",
      "Query complete for: {:created_at=>{\"$gte\"=>2015-05-23 12:00:00 +0000, \"$lt\"=>2015-05-23 16:00:00 +0000}}\n",
      "Query complete for: {:created_at=>{\"$gte\"=>2015-05-23 16:00:00 +0000, \"$lt\"=>2015-05-23 20:00:00 +0000}}\n",
      "Query complete for: {:created_at=>{\"$gte\"=>2015-05-23 20:00:00 +0000, \"$lt\"=>2015-05-24 00:00:00 +0000}}\n",
      "Query complete for: {:created_at=>{\"$gte\"=>2015-05-24 00:00:00 +0000, \"$lt\"=>2015-05-24 04:00:00 +0000}}\n",
      "Query complete for: {:created_at=>{\"$gte\"=>2015-05-24 04:00:00 +0000, \"$lt\"=>2015-05-24 08:00:00 +0000}}\n",
      "Query complete for: {:created_at=>{\"$gte\"=>2015-05-24 08:00:00 +0000, \"$lt\"=>2015-05-24 12:00:00 +0000}}\n",
      "Query complete for: {:created_at=>{\"$gte\"=>2015-05-24 12:00:00 +0000, \"$lt\"=>2015-05-24 16:00:00 +0000}}\n",
      "Query complete for: {:created_at=>{\"$gte\"=>2015-05-24 16:00:00 +0000, \"$lt\"=>2015-05-24 20:00:00 +0000}}\n",
      "Query complete for: {:created_at=>{\"$gte\"=>2015-05-24 20:00:00 +0000, \"$lt\"=>2015-05-25 00:00:00 +0000}}\n",
      "Query complete for: {:created_at=>{\"$gte\"=>2015-05-25 00:00:00 +0000, \"$lt\"=>2015-05-25 04:00:00 +0000}}\n",
      "Query complete for: {:created_at=>{\"$gte\"=>2015-05-25 04:00:00 +0000, \"$lt\"=>2015-05-25 08:00:00 +0000}}\n",
      "Query complete for: {:created_at=>{\"$gte\"=>2015-05-25 08:00:00 +0000, \"$lt\"=>2015-05-25 12:00:00 +0000}}\n",
      "Query complete for: {:created_at=>{\"$gte\"=>2015-05-25 12:00:00 +0000, \"$lt\"=>2015-05-25 16:00:00 +0000}}\n",
      "Query complete for: {:created_at=>{\"$gte\"=>2015-05-25 16:00:00 +0000, \"$lt\"=>2015-05-25 20:00:00 +0000}}\n",
      "Query complete for: {:created_at=>{\"$gte\"=>2015-05-25 20:00:00 +0000, \"$lt\"=>2015-05-26 00:00:00 +0000}}\n",
      "Query complete for: {:created_at=>{\"$gte\"=>2015-05-26 00:00:00 +0000, \"$lt\"=>2015-05-26 04:00:00 +0000}}\n",
      "Query complete for: {:created_at=>{\"$gte\"=>2015-05-26 04:00:00 +0000, \"$lt\"=>2015-05-26 08:00:00 +0000}}\n",
      "Query complete for: {:created_at=>{\"$gte\"=>2015-05-26 08:00:00 +0000, \"$lt\"=>2015-05-26 12:00:00 +0000}}\n",
      "Query complete for: {:created_at=>{\"$gte\"=>2015-05-26 12:00:00 +0000, \"$lt\"=>2015-05-26 16:00:00 +0000}}\n",
      "Query complete for: {:created_at=>{\"$gte\"=>2015-05-26 16:00:00 +0000, \"$lt\"=>2015-05-26 20:00:00 +0000}}\n",
      "Query complete for: {:created_at=>{\"$gte\"=>2015-05-26 20:00:00 +0000, \"$lt\"=>2015-05-27 00:00:00 +0000}}\n",
      "Query complete for: {:created_at=>{\"$gte\"=>2015-05-27 00:00:00 +0000, \"$lt\"=>2015-05-27 04:00:00 +0000}}\n",
      "Query complete for: {:created_at=>{\"$gte\"=>2015-05-27 04:00:00 +0000, \"$lt\"=>2015-05-27 08:00:00 +0000}}\n",
      "Query complete for: {:created_at=>{\"$gte\"=>2015-05-27 08:00:00 +0000, \"$lt\"=>2015-05-27 12:00:00 +0000}}\n",
      "Query complete for: {:created_at=>{\"$gte\"=>2015-05-27 12:00:00 +0000, \"$lt\"=>2015-05-27 16:00:00 +0000}}\n",
      "Query complete for: {:created_at=>{\"$gte\"=>2015-05-27 16:00:00 +0000, \"$lt\"=>2015-05-27 20:00:00 +0000}}\n",
      "Query complete for: {:created_at=>{\"$gte\"=>2015-05-27 20:00:00 +0000, \"$lt\"=>2015-05-28 00:00:00 +0000}}\n",
      "Query complete for: {:created_at=>{\"$gte\"=>2015-05-28 00:00:00 +0000, \"$lt\"=>2015-05-28 04:00:00 +0000}}\n",
      "Query complete for: {:created_at=>{\"$gte\"=>2015-05-28 04:00:00 +0000, \"$lt\"=>2015-05-28 08:00:00 +0000}}\n",
      "Query complete for: {:created_at=>{\"$gte\"=>2015-05-28 08:00:00 +0000, \"$lt\"=>2015-05-28 12:00:00 +0000}}\n",
      "Query complete for: {:created_at=>{\"$gte\"=>2015-05-28 12:00:00 +0000, \"$lt\"=>2015-05-28 16:00:00 +0000}}\n",
      "Query complete for: {:created_at=>{\"$gte\"=>2015-05-28 16:00:00 +0000, \"$lt\"=>2015-05-28 20:00:00 +0000}}\n",
      "Query complete for: {:created_at=>{\"$gte\"=>2015-05-28 20:00:00 +0000, \"$lt\"=>2015-05-29 00:00:00 +0000}}\n",
      "Query complete for: {:created_at=>{\"$gte\"=>2015-05-29 00:00:00 +0000, \"$lt\"=>2015-05-29 04:00:00 +0000}}\n",
      "Query complete for: {:created_at=>{\"$gte\"=>2015-05-29 04:00:00 +0000, \"$lt\"=>2015-05-29 08:00:00 +0000}}\n",
      "Query complete for: {:created_at=>{\"$gte\"=>2015-05-29 08:00:00 +0000, \"$lt\"=>2015-05-29 12:00:00 +0000}}\n",
      "Query complete for: {:created_at=>{\"$gte\"=>2015-05-29 12:00:00 +0000, \"$lt\"=>2015-05-29 16:00:00 +0000}}\n",
      "Query complete for: {:created_at=>{\"$gte\"=>2015-05-29 16:00:00 +0000, \"$lt\"=>2015-05-29 20:00:00 +0000}}\n",
      "Query complete for: {:created_at=>{\"$gte\"=>2015-05-29 20:00:00 +0000, \"$lt\"=>2015-05-30 00:00:00 +0000}}\n",
      "Query complete for: {:created_at=>{\"$gte\"=>2015-05-30 00:00:00 +0000, \"$lt\"=>2015-05-30 04:00:00 +0000}}\n",
      "Query complete for: {:created_at=>{\"$gte\"=>2015-05-30 04:00:00 +0000, \"$lt\"=>2015-05-30 08:00:00 +0000}}\n",
      "Query complete for: {:created_at=>{\"$gte\"=>2015-05-30 08:00:00 +0000, \"$lt\"=>2015-05-30 12:00:00 +0000}}\n",
      "Query complete for: {:created_at=>{\"$gte\"=>2015-05-30 12:00:00 +0000, \"$lt\"=>2015-05-30 16:00:00 +0000}}\n",
      "Query complete for: {:created_at=>{\"$gte\"=>2015-05-30 16:00:00 +0000, \"$lt\"=>2015-05-30 20:00:00 +0000}}\n",
      "Query complete for: {:created_at=>{\"$gte\"=>2015-05-30 20:00:00 +0000, \"$lt\"=>2015-05-31 00:00:00 +0000}}\n"
     ]
    }
   ],
   "source": [
    "cSets_per_4hours = aw.changesets_x_hour(step: 4);\n",
    "nil"
   ]
  },
  {
   "cell_type": "code",
   "execution_count": 161,
   "metadata": {
    "collapsed": false
   },
   "outputs": [],
   "source": [
    "users_per_4hours = cSets_per_4hours.collect{|bucket| \n",
    "  {time: bucket[:start_date],\n",
    "   all_users: bucket[:objects].collect{|x| x.user}.uniq,\n",
    "   hot_users: bucket[:objects].select{|c| c.comment =~ /hot/}.collect{|x| x.user}.uniq\n",
    "  }\n",
    "}\n",
    "\n",
    "counts_per_4_hours = users_per_4hours.collect{ |d| \n",
    "  { time:      d[:time],\n",
    "    all_users: d[:all_users].count,\n",
    "    hot_users: d[:hot_users].count\n",
    "  }\n",
    "}; nil"
   ]
  },
  {
   "cell_type": "code",
   "execution_count": 162,
   "metadata": {
    "collapsed": false
   },
   "outputs": [
    {
     "name": "stdout",
     "output_type": "stream",
     "text": [
      "All users: 7068\n",
      "HOT users: 6075\n"
     ]
    }
   ],
   "source": [
    "puts \"All users: #{ users_per_4hours.collect{|x| x[:all_users] }.flatten.uniq.length }\"\n",
    "puts \"HOT users: #{ users_per_4hours.collect{|x| x[:hot_users] }.flatten.uniq.length }\"\n",
    "nil"
   ]
  },
  {
   "cell_type": "code",
   "execution_count": 169,
   "metadata": {
    "collapsed": false
   },
   "outputs": [
    {
     "data": {
      "text/plain": [
       "14586"
      ]
     },
     "execution_count": 169,
     "metadata": {},
     "output_type": "execute_result"
    }
   ],
   "source": [
    "#Write out JSON to visualize:\n",
    "require 'json'\n",
    "File.write('json/user_counts_per_4hour.json', counts_per_4_hours.to_json)"
   ]
  },
  {
   "cell_type": "code",
   "execution_count": 165,
   "metadata": {
    "collapsed": false
   },
   "outputs": [
    {
     "name": "stdout",
     "output_type": "stream",
     "text": [
      "Error: there was a problem executing system command: visible(lambda { (self.index % 3)==0})\n"
     ]
    }
   ],
   "source": [
    "require 'rubyvis'\n",
    "w = 800\n",
    "h = 600\n",
    "\n",
    "#Scale appropriately\n",
    "colors=pv.Colors.category20()\n",
    "\n",
    "# x = pv.Scale.linear(0, counts_per_4_hours.length}).range(0, w)\n",
    "x = pv.Scale.ordinal(counts_per_4_hours, lambda {|d| d.time}).split_banded(0,w,4/5.0)\n",
    "\n",
    "y = pv.Scale.linear(0, counts_per_4_hours.collect{|x| x[:all_users]}.max).range(0, h)\n",
    "k = x.range_band / 2\n",
    "\n",
    "fill = pv.colors(\"lightblue\", \"darkgray\")\n",
    "\n",
    "format = pv.Format.date(\"%d\")\n",
    "\n",
    "vis = pv.Panel.new()\n",
    "    .width(w)\n",
    "    .height(h)\n",
    "    .margin(19.5)\n",
    "    .right(40);\n",
    "\n",
    "panel = vis.add(pv.Panel)\n",
    "    .data(counts_per_4_hours)\n",
    "    .left(lambda {|d| x.scale(d.time)})\n",
    "    .width(x.range_band);\n",
    "    \n",
    "panel.add(pv.Bar)\n",
    "    .data(counts_per_4_hours)\n",
    "    .bottom(0)\n",
    "    .width(k)\n",
    "    .left(lambda { self.index * k})\n",
    "    .height(lambda {|t, d| y.scale(d.send(t))})\n",
    "    .fill_style(lambda {|f| a=fill.scale(self.index); return a})\n",
    "    .stroke_style(lambda {|d| fill_style ? fill_style.darker : pv.color('black')})\n",
    "    .line_width(1);\n",
    "\n",
    "panel.anchor(\"bottom\").add(pv.Label)\n",
    ".visible(lambda { (self.index % 3)==0})\n",
    ".text_baseline(\"top\")\n",
    "    .text_margin(10)\n",
    "    .text(lambda {|d| format.format(d.date)})\n",
    "    \n",
    "vis.add(pv.Rule)\n",
    "    .data(y.ticks())\n",
    "    .bottom(lambda {|d| y.scale(d)})\n",
    "    .stroke_style(lambda {|i|  i!=0 ? pv.color(\"rgba(255, 255, 255, .5)\") : pv.color(\"black\")})\n",
    "  .anchor(\"right\").add(pv.Label)\n",
    "  .visible(lambda { (self.index & 1)==0})\n",
    "    .text_margin(6);\n",
    "\n",
    "# #/* The bars. */\n",
    "# colors=pv.Colors.category20()\n",
    "\n",
    "# bar = vis.add(pv.Panel)\n",
    "#     .data(data)\n",
    "#     .top(lambda {y.scale(self.index)})\n",
    "#     .height(y.range_band)\n",
    "#   .add(pv.Bar)\n",
    "#     .data(lambda {|d| d})\n",
    "#     .top(lambda {self.index * y.range_band / m.to_f})\n",
    "#     .height(y.range_band / m.to_f)\n",
    "#     .left(0)\n",
    "#     .width(x)\n",
    "#     .fillStyle(lambda { colors.scale(self.index)})\n",
    "\n",
    "# # #/* The value label. */\n",
    "# # bar.anchor(\"right\").add(pv.Label)\n",
    "# #     .textStyle(\"white\")\n",
    "# #     .text(lambda {|d| \"%0.1f\" % d});\n",
    "\n",
    "# #/* The variable label. */\n",
    "# # bar.parent.anchor(\"left\").add(pv.Label)\n",
    "# #     .textAlign(\"right\")\n",
    "# #     .textMargin(5)\n",
    "# #     .text(lambda {\"ABCDEFGHIJK\"[self.parent.index,1]});\n",
    "\n",
    "# #/* X-axis ticks. */\n",
    "# vis.add(pv.Rule)\n",
    "#     .data(x.ticks(5))\n",
    "#     .left(x)\n",
    "#     .strokeStyle(lambda {|d| d!=0 ? \"rgba(255,255,255,.3)\" : \"#000\"})\n",
    "#   .add(pv.Rule)\n",
    "#     .bottom(0)\n",
    "#     .height(5)\n",
    "#     .strokeStyle(\"#000\")\n",
    "#   .anchor(\"bottom\").add(pv.Label)\n",
    "#     .text(x.tick_format);\n",
    "\n",
    "# vis.render();\n",
    "# vis\n",
    "\n",
    "#   p.label(:anchor=>'top')\n",
    "#     .fontSize(24)\n",
    "#     .text(\"Users Editing per 4 hour periods\")\n",
    "# end\n",
    "# vis"
   ]
  },
  {
   "cell_type": "code",
   "execution_count": 110,
   "metadata": {
    "collapsed": false
   },
   "outputs": [
    {
     "data": {
      "text/plain": [
       "\"test\""
      ]
     },
     "execution_count": 110,
     "metadata": {},
     "output_type": "execute_result"
    }
   ],
   "source": []
  },
  {
   "cell_type": "markdown",
   "metadata": {},
   "source": [
    "testing: {{x}}"
   ]
  },
  {
   "cell_type": "code",
   "execution_count": null,
   "metadata": {
    "collapsed": true
   },
   "outputs": [],
   "source": []
  }
 ],
 "metadata": {
  "kernelspec": {
   "display_name": "Ruby 2.1.5",
   "language": "ruby",
   "name": "ruby"
  },
  "language_info": {
   "file_extension": ".rb",
   "mimetype": "application/x-ruby",
   "name": "ruby",
   "version": "2.1.5"
  }
 },
 "nbformat": 4,
 "nbformat_minor": 0
}
