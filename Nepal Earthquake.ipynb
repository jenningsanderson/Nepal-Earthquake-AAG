{
 "cells": [
  {
   "cell_type": "markdown",
   "metadata": {
    "slideshow": {
     "slide_type": "slide"
    }
   },
   "source": [
    "Nepal Earthquake OSM Data Exploration\n",
    "====================================="
   ]
  },
  {
   "cell_type": "code",
   "execution_count": 2,
   "metadata": {
    "collapsed": false,
    "slideshow": {
     "slide_type": "slide"
    }
   },
   "outputs": [
    {
     "name": "stdout",
     "output_type": "stream",
     "text": [
      "Successfully initialized Analysis Window: Nepal Earthquake\n",
      "\n"
     ]
    },
    {
     "data": {
      "text/plain": [
       "#<AnalysisWindow:0x007f5dde8b8d08 @bounding_box=#<BoundingBox:0x007f5dde8b8f88 @bbox_array=[\"80.0134\", \"26.3033\", \"88.2202\", \"30.5149\"], @bottom_left=[80.0134, 26.3033], @top_right=[88.2202, 30.5149], @active=false>, @time_frame=#<TimeFrame:0x007f5dde8b94d8 @start_date=2015-04-25 00:00:00 +0000, @end_date=2015-05-31 00:00:00 +0000, @active=true>, @max_area=1000000000000, @min_area=1, @title=\"Nepal Earthquake\", @changeset_tags=nil>"
      ]
     },
     "execution_count": 2,
     "metadata": {},
     "output_type": "execute_result"
    }
   ],
   "source": [
    "require '/opt/epic-osm/epic-osm.rb'\n",
    "analysis_window = './nepal-earthquake.yml'\n",
    "o  = EpicOSM.new(analysis_window: analysis_window)\n",
    "aw = o.analysis_window"
   ]
  },
  {
   "cell_type": "markdown",
   "metadata": {},
   "source": [
    "## Visualize some changesets information!"
   ]
  },
  {
   "cell_type": "code",
   "execution_count": null,
   "metadata": {
    "collapsed": false,
    "scrolled": true
   },
   "outputs": [],
   "source": [
    "#cSets_per_4hours = aw.changesets_x_hour(step: 4);\n",
    "nil"
   ]
  },
  {
   "cell_type": "code",
   "execution_count": null,
   "metadata": {
    "collapsed": false
   },
   "outputs": [],
   "source": [
    "users_per_4hours = cSets_per_4hours.collect{|bucket| \n",
    "  {time: bucket[:start_date],\n",
    "   all_users: bucket[:objects].collect{|x| x.user}.uniq,\n",
    "   hot_users: bucket[:objects].select{|c| c.comment =~ /hot/}.collect{|x| x.user}.uniq\n",
    "  }\n",
    "}\n",
    "\n",
    "counts_per_4_hours = users_per_4hours.collect{ |d| \n",
    "  { time:      d[:time],\n",
    "    all_users: d[:all_users].count,\n",
    "    hot_users: d[:hot_users].count\n",
    "  }\n",
    "}; nil"
   ]
  },
  {
   "cell_type": "code",
   "execution_count": null,
   "metadata": {
    "collapsed": false
   },
   "outputs": [],
   "source": [
    "puts \"All users: #{ users_per_4hours.collect{|x| x[:all_users] }.flatten.uniq.length }\"\n",
    "puts \"HOT users: #{ users_per_4hours.collect{|x| x[:hot_users] }.flatten.uniq.length }\"\n",
    "nil"
   ]
  },
  {
   "cell_type": "code",
   "execution_count": null,
   "metadata": {
    "collapsed": false
   },
   "outputs": [],
   "source": [
    "#Write out JSON to visualize:\n",
    "require 'json'\n",
    "File.write('json/user_counts_per_4hour.json', counts_per_4_hours.to_json)"
   ]
  },
  {
   "cell_type": "markdown",
   "metadata": {},
   "source": [
    "## Calculate Cumulative New Users?"
   ]
  },
  {
   "cell_type": "code",
   "execution_count": null,
   "metadata": {
    "collapsed": false
   },
   "outputs": [],
   "source": [
    "all_users = Set.new\n",
    "hot_users = Set.new\n",
    "cumulative_users = []\n",
    "\n",
    "cSets_per_4hours.each do |bucket|\n",
    "  t_all_users = bucket[:objects].collect{|x| x.user}.uniq.to_set\n",
    "  t_hot_users = bucket[:objects].select{|c| c.comment =~ /hot/}.collect{|x| x.user}.uniq.to_set\n",
    "  \n",
    "  \n",
    "  #Unless THIS set of users is a subset of ALL PREVIOUS users... add the difference!\n",
    "  unless t_all_users.subset?(all_users)\n",
    "    all_users = all_users.merge(t_all_users - all_users)\n",
    "  end\n",
    "  \n",
    "  unless t_hot_users.subset?(hot_users)\n",
    "    hot_users = hot_users.merge(t_hot_users - hot_users)\n",
    "  end\n",
    "    \n",
    "  cumulative_users << {time: bucket[:start_date], all_users: all_users.size, hot_users: hot_users.size}\n",
    "  \n",
    "end\n",
    "\n",
    "cumulative_users[0..10].each do |u|\n",
    "  puts \"#{u[:time]}: #{u[:hot_users]}, #{u[:all_users]}\"\n",
    "end\n",
    "\n",
    "File.write('json/cumulative_user_count.json', cumulative_users.to_json)\n",
    "nil;"
   ]
  },
  {
   "cell_type": "markdown",
   "metadata": {},
   "source": [
    "testing: {{x}}"
   ]
  },
  {
   "cell_type": "markdown",
   "metadata": {
    "collapsed": true
   },
   "source": [
    "## Building Statistics"
   ]
  },
  {
   "cell_type": "code",
   "execution_count": null,
   "metadata": {
    "collapsed": false,
    "scrolled": true
   },
   "outputs": [],
   "source": [
    "# 1. Get the buildings grouped by 4 hours:\n",
    "buildings_per_4_hours = aw.ways_x_hour(step: 4, constraints: {version: 1, 'tags.building' => {'$ne' => nil}}); nil\n"
   ]
  },
  {
   "cell_type": "code",
   "execution_count": null,
   "metadata": {
    "collapsed": false
   },
   "outputs": [],
   "source": [
    "# 2. Sort the buildings\n",
    "building_counts_per_4_hours = buildings_per_4_hours.collect{ |bucket| \n",
    "  by_users = bucket[:objects].group_by{|w| w.user }\n",
    "  { \n",
    "    t: bucket[:start_date],\n",
    "    c: bucket[:objects].size,\n",
    "    u_count: by_users.size,\n",
    "    per_user_count: by_users.collect{|k,v| {k => v.size}}\n",
    "  }\n",
    "}; nil;"
   ]
  },
  {
   "cell_type": "code",
   "execution_count": null,
   "metadata": {
    "collapsed": false
   },
   "outputs": [],
   "source": [
    "# 3. Write the JSON file.\n",
    "require 'json'\n",
    "# File.write('json/new_buildings.json', building_counts_per_4_hours.to_json)"
   ]
  },
  {
   "cell_type": "code",
   "execution_count": null,
   "metadata": {
    "collapsed": false
   },
   "outputs": [],
   "source": [
    "puts \"There were #{building_counts_per_4_hours.collect{|b| b[:c]}.inject(:+)} new buildings added\""
   ]
  },
  {
   "cell_type": "code",
   "execution_count": null,
   "metadata": {
    "collapsed": false
   },
   "outputs": [],
   "source": [
    "uniq_users = building_counts_per_4_hours.collect{|b| b[:per_user_count].flatten.collect{|x| x.keys}}.flatten.uniq\n",
    "uniq_users.size"
   ]
  },
  {
   "cell_type": "code",
   "execution_count": null,
   "metadata": {
    "collapsed": true
   },
   "outputs": [],
   "source": [
    "buildings_per_user = building_counts_per_4_hours.collect{|b| b[:per_user_count].flatten.group_by{|x| x.keys}}"
   ]
  },
  {
   "cell_type": "markdown",
   "metadata": {
    "collapsed": true
   },
   "source": [
    "## Road Statistics\n",
    "Pull info on (new) roads!"
   ]
  },
  {
   "cell_type": "code",
   "execution_count": null,
   "metadata": {
    "collapsed": false,
    "scrolled": true
   },
   "outputs": [],
   "source": [
    "roads_per_4hour = aw.ways_x_hour(step: 4, constraints: {version: 1, 'tags.highway' => {'$ne' => nil}})"
   ]
  },
  {
   "cell_type": "code",
   "execution_count": 7,
   "metadata": {
    "collapsed": false
   },
   "outputs": [
    {
     "data": {
      "text/plain": [
       "210885"
      ]
     },
     "execution_count": 7,
     "metadata": {},
     "output_type": "execute_result"
    }
   ],
   "source": [
    "# Filter, Count, & Export\n",
    "road_counts_per_4_hours = roads_per_4hour.collect{ |bucket| \n",
    "  by_users = bucket[:objects].group_by{|w| w.user }\n",
    "  { \n",
    "    t: bucket[:start_date],\n",
    "    c: bucket[:objects].size,\n",
    "    u_count: by_users.size,\n",
    "    per_user_count: by_users.collect{|k,v| {k => v.size}}\n",
    "  }\n",
    "}\n",
    "\n",
    "require 'json'\n",
    "File.write('json/new_roads.json', road_counts_per_4_hours.to_json)"
   ]
  },
  {
   "cell_type": "code",
   "execution_count": 8,
   "metadata": {
    "collapsed": false
   },
   "outputs": [
    {
     "name": "stdout",
     "output_type": "stream",
     "text": [
      "There were 150097 new roads added\n"
     ]
    }
   ],
   "source": [
    "puts \"There were #{road_counts_per_4_hours.collect{|b| b[:c]}.inject(:+)} new roads added\""
   ]
  },
  {
   "cell_type": "code",
   "execution_count": null,
   "metadata": {
    "collapsed": true
   },
   "outputs": [],
   "source": []
  }
 ],
 "metadata": {
  "kernelspec": {
   "display_name": "Ruby 2.1.5",
   "language": "ruby",
   "name": "ruby"
  },
  "language_info": {
   "file_extension": ".rb",
   "mimetype": "application/x-ruby",
   "name": "ruby",
   "version": "2.1.5"
  }
 },
 "nbformat": 4,
 "nbformat_minor": 0
}
