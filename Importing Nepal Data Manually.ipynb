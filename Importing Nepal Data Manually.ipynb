{
 "cells": [
  {
   "cell_type": "markdown",
   "metadata": {},
   "source": [
    "Importing Nepal Data\n",
    "====================\n",
    "\n",
    "This is an attempt to manually import the Nepal data (as it's already been cut)\n",
    "\n",
    "**Important: This script is best run in an interpreter in the terminal to preserve stdout.**\n"
   ]
  },
  {
   "cell_type": "code",
   "execution_count": 9,
   "metadata": {
    "collapsed": false
   },
   "outputs": [
    {
     "data": {
      "text/plain": [
       "\"./nepal-earthquake.yml\""
      ]
     },
     "execution_count": 9,
     "metadata": {},
     "output_type": "execute_result"
    }
   ],
   "source": [
    "require '/opt/epic-osm/import_scripts/import_analysis_window'\n",
    "analysis_window = './nepal-earthquake.yml'"
   ]
  },
  {
   "cell_type": "code",
   "execution_count": 10,
   "metadata": {
    "collapsed": false
   },
   "outputs": [
    {
     "name": "stdout",
     "output_type": "stream",
     "text": [
      "Successfully initialized Analysis Window: Nepal Earthquake\n",
      "\n"
     ]
    },
    {
     "data": {
      "text/plain": [
       "\"Nepal Earthquake\""
      ]
     },
     "execution_count": 10,
     "metadata": {},
     "output_type": "execute_result"
    }
   ],
   "source": [
    "o  = EpicOSM.new(analysis_window: analysis_window)\n",
    "aw = o.analysis_window; aw.title"
   ]
  },
  {
   "cell_type": "code",
   "execution_count": 11,
   "metadata": {
    "collapsed": false
   },
   "outputs": [
    {
     "name": "stdout",
     "output_type": "stream",
     "text": [
      "Connecting to: nepal-earthquake2 Mongo Database\n",
      "\n"
     ]
    }
   ],
   "source": [
    "import_object = AnalysisWindowImport.new(config: analysis_window); nil"
   ]
  },
  {
   "cell_type": "code",
   "execution_count": null,
   "metadata": {
    "collapsed": false
   },
   "outputs": [
    {
     "name": "stdout",
     "output_type": "stream",
     "text": [
      "---------------------------------------\n",
      "Parsing data up to 2015-05-31 00:00:00 +0000\n",
      "---------------------------------------\n"
     ]
    }
   ],
   "source": [
    "#import_object.run_mongo_import"
   ]
  },
  {
   "cell_type": "code",
   "execution_count": null,
   "metadata": {
    "collapsed": true
   },
   "outputs": [],
   "source": [
    "#Changesets & Users\n",
    "#import_object.changeset_import   \n",
    "#import_object.user_import   "
   ]
  }
 ],
 "metadata": {
  "kernelspec": {
   "display_name": "Ruby 2.1.5",
   "language": "ruby",
   "name": "ruby"
  },
  "language_info": {
   "file_extension": ".rb",
   "mimetype": "application/x-ruby",
   "name": "ruby",
   "version": "2.1.5"
  }
 },
 "nbformat": 4,
 "nbformat_minor": 0
}
